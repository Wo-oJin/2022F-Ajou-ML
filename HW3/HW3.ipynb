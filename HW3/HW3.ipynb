{
  "cells": [
    {
      "cell_type": "markdown",
      "metadata": {
        "id": "view-in-github",
        "colab_type": "text"
      },
      "source": [
        "<a href=\"https://colab.research.google.com/github/Wo-oJin/2022F-Ajou-ML/blob/main/HW3/HW3.ipynb\" target=\"_parent\"><img src=\"https://colab.research.google.com/assets/colab-badge.svg\" alt=\"Open In Colab\"/></a>"
      ]
    },
    {
      "cell_type": "markdown",
      "metadata": {
        "id": "m1rbIpJvJD_m"
      },
      "source": [
        "# **HW3 :: Parameter Tuning and Classifcation**"
      ]
    },
    {
      "cell_type": "markdown",
      "metadata": {
        "id": "6c34x6aJI_kE"
      },
      "source": [
        "## 코랩과 구글 드라이브 연동 OR 로컬에서 파일 업로드\n",
        "- 해당 섹션 코드 수정 가능"
      ]
    },
    {
      "cell_type": "code",
      "execution_count": 1,
      "metadata": {
        "id": "PLXjmIbsJMlk"
      },
      "outputs": [],
      "source": [
        "# 연동 OR 파일 업로드\n",
        "# 연동 시 path 설정 주의"
      ]
    },
    {
      "cell_type": "code",
      "execution_count": 72,
      "metadata": {
        "id": "4VXRY6hDJ60i",
        "colab": {
          "base_uri": "https://localhost:8080/"
        },
        "outputId": "a413ec93-9e7f-42e9-e26d-e2305fcf6a30"
      },
      "outputs": [
        {
          "output_type": "stream",
          "name": "stdout",
          "text": [
            "Drive already mounted at /content/drive; to attempt to forcibly remount, call drive.mount(\"/content/drive\", force_remount=True).\n"
          ]
        }
      ],
      "source": [
        "from google.colab import drive\n",
        "drive.mount('/content/drive')"
      ]
    },
    {
      "cell_type": "markdown",
      "metadata": {
        "id": "HR6Kw9YhJV8A"
      },
      "source": [
        "## 데이터 불러오기"
      ]
    },
    {
      "cell_type": "code",
      "execution_count": 73,
      "metadata": {
        "id": "29BsCuUtKjKA"
      },
      "outputs": [],
      "source": [
        "import numpy as np\n",
        "import pandas as pd"
      ]
    },
    {
      "cell_type": "code",
      "execution_count": 74,
      "metadata": {
        "id": "e6BsnGgg4Zle",
        "colab": {
          "base_uri": "https://localhost:8080/"
        },
        "outputId": "2a5adb1a-f210-4960-aad9-204f510ed72d"
      },
      "outputs": [
        {
          "output_type": "stream",
          "name": "stdout",
          "text": [
            "[Errno 2] No such file or directory: './drive/MyDrive/Colab Notebooks/HW3'\n",
            "/content/drive/MyDrive/Colab Notebooks/HW3\n"
          ]
        }
      ],
      "source": [
        "%cd ./drive/MyDrive/Colab Notebooks/HW3\n",
        "df = pd.read_csv('airline_sampled2.csv') \n",
        "# HW1에서 사용한 데이터를 샘플링한 파일이므로 꼭 제공된 csv 파일을 사용할 것"
      ]
    },
    {
      "cell_type": "code",
      "execution_count": 75,
      "metadata": {
        "id": "XyXXUUUv4Zlf",
        "colab": {
          "base_uri": "https://localhost:8080/",
          "height": 314
        },
        "outputId": "056ce7fc-cf8e-4029-b88f-3a5301b447e7"
      },
      "outputs": [
        {
          "output_type": "execute_result",
          "data": {
            "text/plain": [
              "   Unnamed: 0  Unnamed: 0.1  Gender  Customer Type  Age  Type of Travel  \\\n",
              "0        8827          8858       0              1   27               1   \n",
              "1        3588          3601       1              0   22               1   \n",
              "2        1011          1017       0              0   23               1   \n",
              "3        7212          7237       1              0   21               1   \n",
              "4        5025          5044       1              1   67               0   \n",
              "\n",
              "   Class  Flight Distance  Inflight wifi service  \\\n",
              "0      2              183                      4   \n",
              "1      0              829                      2   \n",
              "2      2             1020                      4   \n",
              "3      0             1028                      4   \n",
              "4      0              626                      3   \n",
              "\n",
              "   Departure/Arrival time convenient  ...  Inflight entertainment  \\\n",
              "0                                  4  ...                       5   \n",
              "1                                  3  ...                       1   \n",
              "2                                  5  ...                       4   \n",
              "3                                  4  ...                       3   \n",
              "4                                  4  ...                       2   \n",
              "\n",
              "   On-board service  Leg room service  Baggage handling  Checkin service  \\\n",
              "0                 4                 3                 4                3   \n",
              "1                 1                 3                 3                3   \n",
              "2                 3                 4                 5                3   \n",
              "3                 3                 3                 2                5   \n",
              "4                 2                 3                 2                5   \n",
              "\n",
              "   Inflight service  Cleanliness  Departure Delay in Minutes  \\\n",
              "0                 4            5                           0   \n",
              "1                 3            1                           4   \n",
              "2                 5            4                           0   \n",
              "3                 4            3                           0   \n",
              "4                 2            3                           0   \n",
              "\n",
              "   Arrival Delay in Minutes  satisfaction  \n",
              "0                       7.0             0  \n",
              "1                       4.0             0  \n",
              "2                       0.0             1  \n",
              "3                       0.0             1  \n",
              "4                       0.0             0  \n",
              "\n",
              "[5 rows x 25 columns]"
            ],
            "text/html": [
              "\n",
              "  <div id=\"df-0e174913-39b0-44ad-8bf5-9eece0caa31d\">\n",
              "    <div class=\"colab-df-container\">\n",
              "      <div>\n",
              "<style scoped>\n",
              "    .dataframe tbody tr th:only-of-type {\n",
              "        vertical-align: middle;\n",
              "    }\n",
              "\n",
              "    .dataframe tbody tr th {\n",
              "        vertical-align: top;\n",
              "    }\n",
              "\n",
              "    .dataframe thead th {\n",
              "        text-align: right;\n",
              "    }\n",
              "</style>\n",
              "<table border=\"1\" class=\"dataframe\">\n",
              "  <thead>\n",
              "    <tr style=\"text-align: right;\">\n",
              "      <th></th>\n",
              "      <th>Unnamed: 0</th>\n",
              "      <th>Unnamed: 0.1</th>\n",
              "      <th>Gender</th>\n",
              "      <th>Customer Type</th>\n",
              "      <th>Age</th>\n",
              "      <th>Type of Travel</th>\n",
              "      <th>Class</th>\n",
              "      <th>Flight Distance</th>\n",
              "      <th>Inflight wifi service</th>\n",
              "      <th>Departure/Arrival time convenient</th>\n",
              "      <th>...</th>\n",
              "      <th>Inflight entertainment</th>\n",
              "      <th>On-board service</th>\n",
              "      <th>Leg room service</th>\n",
              "      <th>Baggage handling</th>\n",
              "      <th>Checkin service</th>\n",
              "      <th>Inflight service</th>\n",
              "      <th>Cleanliness</th>\n",
              "      <th>Departure Delay in Minutes</th>\n",
              "      <th>Arrival Delay in Minutes</th>\n",
              "      <th>satisfaction</th>\n",
              "    </tr>\n",
              "  </thead>\n",
              "  <tbody>\n",
              "    <tr>\n",
              "      <th>0</th>\n",
              "      <td>8827</td>\n",
              "      <td>8858</td>\n",
              "      <td>0</td>\n",
              "      <td>1</td>\n",
              "      <td>27</td>\n",
              "      <td>1</td>\n",
              "      <td>2</td>\n",
              "      <td>183</td>\n",
              "      <td>4</td>\n",
              "      <td>4</td>\n",
              "      <td>...</td>\n",
              "      <td>5</td>\n",
              "      <td>4</td>\n",
              "      <td>3</td>\n",
              "      <td>4</td>\n",
              "      <td>3</td>\n",
              "      <td>4</td>\n",
              "      <td>5</td>\n",
              "      <td>0</td>\n",
              "      <td>7.0</td>\n",
              "      <td>0</td>\n",
              "    </tr>\n",
              "    <tr>\n",
              "      <th>1</th>\n",
              "      <td>3588</td>\n",
              "      <td>3601</td>\n",
              "      <td>1</td>\n",
              "      <td>0</td>\n",
              "      <td>22</td>\n",
              "      <td>1</td>\n",
              "      <td>0</td>\n",
              "      <td>829</td>\n",
              "      <td>2</td>\n",
              "      <td>3</td>\n",
              "      <td>...</td>\n",
              "      <td>1</td>\n",
              "      <td>1</td>\n",
              "      <td>3</td>\n",
              "      <td>3</td>\n",
              "      <td>3</td>\n",
              "      <td>3</td>\n",
              "      <td>1</td>\n",
              "      <td>4</td>\n",
              "      <td>4.0</td>\n",
              "      <td>0</td>\n",
              "    </tr>\n",
              "    <tr>\n",
              "      <th>2</th>\n",
              "      <td>1011</td>\n",
              "      <td>1017</td>\n",
              "      <td>0</td>\n",
              "      <td>0</td>\n",
              "      <td>23</td>\n",
              "      <td>1</td>\n",
              "      <td>2</td>\n",
              "      <td>1020</td>\n",
              "      <td>4</td>\n",
              "      <td>5</td>\n",
              "      <td>...</td>\n",
              "      <td>4</td>\n",
              "      <td>3</td>\n",
              "      <td>4</td>\n",
              "      <td>5</td>\n",
              "      <td>3</td>\n",
              "      <td>5</td>\n",
              "      <td>4</td>\n",
              "      <td>0</td>\n",
              "      <td>0.0</td>\n",
              "      <td>1</td>\n",
              "    </tr>\n",
              "    <tr>\n",
              "      <th>3</th>\n",
              "      <td>7212</td>\n",
              "      <td>7237</td>\n",
              "      <td>1</td>\n",
              "      <td>0</td>\n",
              "      <td>21</td>\n",
              "      <td>1</td>\n",
              "      <td>0</td>\n",
              "      <td>1028</td>\n",
              "      <td>4</td>\n",
              "      <td>4</td>\n",
              "      <td>...</td>\n",
              "      <td>3</td>\n",
              "      <td>3</td>\n",
              "      <td>3</td>\n",
              "      <td>2</td>\n",
              "      <td>5</td>\n",
              "      <td>4</td>\n",
              "      <td>3</td>\n",
              "      <td>0</td>\n",
              "      <td>0.0</td>\n",
              "      <td>1</td>\n",
              "    </tr>\n",
              "    <tr>\n",
              "      <th>4</th>\n",
              "      <td>5025</td>\n",
              "      <td>5044</td>\n",
              "      <td>1</td>\n",
              "      <td>1</td>\n",
              "      <td>67</td>\n",
              "      <td>0</td>\n",
              "      <td>0</td>\n",
              "      <td>626</td>\n",
              "      <td>3</td>\n",
              "      <td>4</td>\n",
              "      <td>...</td>\n",
              "      <td>2</td>\n",
              "      <td>2</td>\n",
              "      <td>3</td>\n",
              "      <td>2</td>\n",
              "      <td>5</td>\n",
              "      <td>2</td>\n",
              "      <td>3</td>\n",
              "      <td>0</td>\n",
              "      <td>0.0</td>\n",
              "      <td>0</td>\n",
              "    </tr>\n",
              "  </tbody>\n",
              "</table>\n",
              "<p>5 rows × 25 columns</p>\n",
              "</div>\n",
              "      <button class=\"colab-df-convert\" onclick=\"convertToInteractive('df-0e174913-39b0-44ad-8bf5-9eece0caa31d')\"\n",
              "              title=\"Convert this dataframe to an interactive table.\"\n",
              "              style=\"display:none;\">\n",
              "        \n",
              "  <svg xmlns=\"http://www.w3.org/2000/svg\" height=\"24px\"viewBox=\"0 0 24 24\"\n",
              "       width=\"24px\">\n",
              "    <path d=\"M0 0h24v24H0V0z\" fill=\"none\"/>\n",
              "    <path d=\"M18.56 5.44l.94 2.06.94-2.06 2.06-.94-2.06-.94-.94-2.06-.94 2.06-2.06.94zm-11 1L8.5 8.5l.94-2.06 2.06-.94-2.06-.94L8.5 2.5l-.94 2.06-2.06.94zm10 10l.94 2.06.94-2.06 2.06-.94-2.06-.94-.94-2.06-.94 2.06-2.06.94z\"/><path d=\"M17.41 7.96l-1.37-1.37c-.4-.4-.92-.59-1.43-.59-.52 0-1.04.2-1.43.59L10.3 9.45l-7.72 7.72c-.78.78-.78 2.05 0 2.83L4 21.41c.39.39.9.59 1.41.59.51 0 1.02-.2 1.41-.59l7.78-7.78 2.81-2.81c.8-.78.8-2.07 0-2.86zM5.41 20L4 18.59l7.72-7.72 1.47 1.35L5.41 20z\"/>\n",
              "  </svg>\n",
              "      </button>\n",
              "      \n",
              "  <style>\n",
              "    .colab-df-container {\n",
              "      display:flex;\n",
              "      flex-wrap:wrap;\n",
              "      gap: 12px;\n",
              "    }\n",
              "\n",
              "    .colab-df-convert {\n",
              "      background-color: #E8F0FE;\n",
              "      border: none;\n",
              "      border-radius: 50%;\n",
              "      cursor: pointer;\n",
              "      display: none;\n",
              "      fill: #1967D2;\n",
              "      height: 32px;\n",
              "      padding: 0 0 0 0;\n",
              "      width: 32px;\n",
              "    }\n",
              "\n",
              "    .colab-df-convert:hover {\n",
              "      background-color: #E2EBFA;\n",
              "      box-shadow: 0px 1px 2px rgba(60, 64, 67, 0.3), 0px 1px 3px 1px rgba(60, 64, 67, 0.15);\n",
              "      fill: #174EA6;\n",
              "    }\n",
              "\n",
              "    [theme=dark] .colab-df-convert {\n",
              "      background-color: #3B4455;\n",
              "      fill: #D2E3FC;\n",
              "    }\n",
              "\n",
              "    [theme=dark] .colab-df-convert:hover {\n",
              "      background-color: #434B5C;\n",
              "      box-shadow: 0px 1px 3px 1px rgba(0, 0, 0, 0.15);\n",
              "      filter: drop-shadow(0px 1px 2px rgba(0, 0, 0, 0.3));\n",
              "      fill: #FFFFFF;\n",
              "    }\n",
              "  </style>\n",
              "\n",
              "      <script>\n",
              "        const buttonEl =\n",
              "          document.querySelector('#df-0e174913-39b0-44ad-8bf5-9eece0caa31d button.colab-df-convert');\n",
              "        buttonEl.style.display =\n",
              "          google.colab.kernel.accessAllowed ? 'block' : 'none';\n",
              "\n",
              "        async function convertToInteractive(key) {\n",
              "          const element = document.querySelector('#df-0e174913-39b0-44ad-8bf5-9eece0caa31d');\n",
              "          const dataTable =\n",
              "            await google.colab.kernel.invokeFunction('convertToInteractive',\n",
              "                                                     [key], {});\n",
              "          if (!dataTable) return;\n",
              "\n",
              "          const docLinkHtml = 'Like what you see? Visit the ' +\n",
              "            '<a target=\"_blank\" href=https://colab.research.google.com/notebooks/data_table.ipynb>data table notebook</a>'\n",
              "            + ' to learn more about interactive tables.';\n",
              "          element.innerHTML = '';\n",
              "          dataTable['output_type'] = 'display_data';\n",
              "          await google.colab.output.renderOutput(dataTable, element);\n",
              "          const docLink = document.createElement('div');\n",
              "          docLink.innerHTML = docLinkHtml;\n",
              "          element.appendChild(docLink);\n",
              "        }\n",
              "      </script>\n",
              "    </div>\n",
              "  </div>\n",
              "  "
            ]
          },
          "metadata": {},
          "execution_count": 75
        }
      ],
      "source": [
        "df.head()"
      ]
    },
    {
      "cell_type": "markdown",
      "metadata": {
        "id": "fZDTxR6wKuPO"
      },
      "source": [
        "## 데이터 나누기"
      ]
    },
    {
      "cell_type": "markdown",
      "metadata": {
        "id": "h5enxbYKbAhW"
      },
      "source": [
        "### **주의 사항**\n",
        "train_test_split에 random seed를 사용하여 split set을 고정한다.\n",
        "- 모든 문제에 같은 random seed를 부여할 필요는 없다.\n"
      ]
    },
    {
      "cell_type": "code",
      "execution_count": 76,
      "metadata": {
        "id": "V1zQHUKdKWFz",
        "colab": {
          "base_uri": "https://localhost:8080/"
        },
        "outputId": "2fca78d8-1d6e-4c93-b8f0-6d39649b46c5"
      },
      "outputs": [
        {
          "output_type": "stream",
          "name": "stdout",
          "text": [
            "X_train's shape :  (800, 24)\n",
            "y_train's shape :  (800,)\n",
            "\n",
            "X_val's shape :  (100, 24)\n",
            "y_val's shape :  (100,)\n",
            "\n",
            "X_test's shape :  (100, 24)\n",
            "y_test's shape :  (100,)\n"
          ]
        }
      ],
      "source": [
        "from sklearn.model_selection import train_test_split\n",
        "\n",
        "X = df.drop('satisfaction', axis=1) # dataframe\n",
        "y = df['satisfaction'] #series\n",
        "y=y.astype('int')\n",
        "  \n",
        "X_train, X_test, y_train, y_test = train_test_split(X, y, test_size=0.1)\n",
        "X_train, X_val, y_train, y_val = train_test_split(X_train, y_train, test_size=1/9)\n",
        "\n",
        "print(\"X_train's shape : \", X_train.shape)\n",
        "print(\"y_train's shape : \", y_train.shape)\n",
        "print(\"\\nX_val's shape : \", X_val.shape)\n",
        "print(\"y_val's shape : \", y_val.shape)\n",
        "print(\"\\nX_test's shape : \", X_test.shape)\n",
        "print(\"y_test's shape : \", y_test.shape)"
      ]
    },
    {
      "cell_type": "markdown",
      "metadata": {
        "id": "P5Gr-LZOLCSP"
      },
      "source": [
        "## 문제1 KNN\n",
        "\n",
        "\n",
        "\n",
        "- Scikit-learn 라이브러리를 이용하여 KNN의 최적의 파라미터를 찾는다.\n",
        "    - 최근접 이웃을 찾기 위한 거리의 종류로 최소한 두 가지 이상의 거리 척도를 사용한다.\n",
        "    - K값을 최소 3개 이상 비교한다.\n",
        "    - 거리 척도, k값에 따라 train, validation 정확도를 한 그래프로 그린다.(x축 k값, y축 정확도)\n",
        "    - 찾은 최적의 파라미터와 test set 이용하여 test_accuracy 계산하고 기입한다.\n",
        "    - 최적의 파라미터를 찾은 것에 대한 설명을 '텍스트 셀'에 작성한다.\n",
        "\n"
      ]
    },
    {
      "cell_type": "code",
      "execution_count": 77,
      "metadata": {
        "id": "vVbdK0ERLSq6"
      },
      "outputs": [],
      "source": [
        "from sklearn.neighbors import KNeighborsClassifier\n",
        "from sklearn import metrics\n",
        "import matplotlib.pyplot as plt"
      ]
    },
    {
      "cell_type": "code",
      "execution_count": 81,
      "metadata": {
        "id": "ME76ne9cdSMa",
        "colab": {
          "base_uri": "https://localhost:8080/",
          "height": 315
        },
        "outputId": "5249ecde-a4c0-4c8b-f891-64d45b532b51"
      },
      "outputs": [
        {
          "output_type": "stream",
          "name": "stdout",
          "text": [
            "test accuracy: 0.61\n",
            "max_k = 55\n"
          ]
        },
        {
          "output_type": "display_data",
          "data": {
            "text/plain": [
              "<Figure size 432x288 with 1 Axes>"
            ],
            "image/png": "[encoded data removed]"
          },
          "metadata": {
            "needs_background": "light"
          }
        }
      ],
      "source": [
        "### 문제 1 ###\n",
        "### 코드 작성 ###\n",
        "K = [1, 3, 5, 15, 30, 55, 80, 101]\n",
        "max_validation = 0\n",
        "max_k = 1\n",
        "\n",
        "for i in [1,2]: # 1: 맨해튼 거리 척도, 2: 유클리디안 거리 척도\n",
        "  train_acc = []\n",
        "  validation_acc = []\n",
        "\n",
        "  for j in K:\n",
        "    classifier = KNeighborsClassifier(n_neighbors = j, p = i, metric = 'minkowski')\n",
        "    classifier.fit(X_train, y_train) # 훈련데이터로 충분히 학습시킨다\n",
        "\n",
        "    #각 K에서의 train/validation 데이터를 저장한다\n",
        "    train_acc.append(classifier.score(X_train, y_train))\n",
        "\n",
        "    validation_score = classifier.score(X_val, y_val)\n",
        "    if(max_validation < validation_score): # 가장 높은 K 값을 저장하기 위한 비교\n",
        "      max_validation = validation_score\n",
        "      max_k = j\n",
        "\n",
        "    validation_acc.append(classifier.score(X_val, y_val))\n",
        "  \n",
        "  # Manhatten, Euclidean 거리 척도별로 그래프를 그려준다\n",
        "  if(i == 1): # Manhatten\n",
        "    plt.plot(K, train_acc, label = 'Manhatten / train_accuracy')\n",
        "    plt.plot(K, validation_acc, label='Manhatten / validation_accuracy')\n",
        "  else: # Euclidean\n",
        "    plt.plot(K, train_acc, label = 'Euclidean / train_accuracy')\n",
        "    plt.plot(K, validation_acc, label='Euclidean / validation_accuracy')\n",
        "\n",
        "  # 그래프 공통 속성\n",
        "  plt.xlabel('K')\n",
        "  plt.ylabel('validation accuracy')\n",
        "  plt.legend()\n",
        "  plt.xticks(K)\n",
        "\n",
        "classifier = KNeighborsClassifier(n_neighbors = 55, p = 2, metric = 'minkowski')\n",
        "classifier.fit(X_train, y_train) # 훈련데이터로 충분히 학습시킨다\n",
        "test_accuracy = classifier.score(X_test, y_test)\n",
        "\n",
        "print(f\"test accuracy: {test_accuracy}\")\n",
        "print(f\"max_k = {max_k}\")"
      ]
    },
    {
      "cell_type": "markdown",
      "metadata": {
        "id": "8-BMEqCFdfsR"
      },
      "source": [
        "**설명 작성**  \n",
        "- 최적의 파라미터: K = 55(Euclidean)\n",
        "- 설명: validation accuracy만 살펴봤을 땐, 맨해튼 거리와 유클리디안 거리 모두 k=55일 때 높은 편에 속한다. 또한 k=55를 기점으로 train_accuracy 및 validation_accuracy가 지속적으로 감소하는 추세를 보이는데 이 추세가 급격한 것이 아닌 완만한 편이라 overfitting 및 underfitting의 위험성도 없다고 판단했다. \n",
        "\n",
        " 결론적으로, validation_accuracy가 가장 높으며 train, validation accuracy가 k=55를 전후로 완만한 변화율을 보이고 있기 때문에 k=55를 최적의 파라미터로 설정했다.\n",
        "\n",
        " 또한 거리 척도는 k=55일 때 가장 높은 validation accuracy를 보이는 Euclidean 거리를 택했다.\n",
        "\n",
        " test accuracy: 61%"
      ]
    },
    {
      "cell_type": "markdown",
      "metadata": {
        "id": "mZkD2D1i4Zli"
      },
      "source": [
        "---"
      ]
    },
    {
      "cell_type": "markdown",
      "metadata": {
        "id": "7OMvtg924Zli"
      },
      "source": [
        "## 문제2 Random Forest\n",
        "\n",
        "\n",
        "- Scikit-learn 라이브러리를 이용하여 Random Forest의 최적의 파라미터를 찾는다.\n",
        "    - Criterion 중 최소 두개를 비교한다.\n",
        "    - 최적의 파라미터 max depth 값을 찾는다.\n",
        "    - 파라미터에 따라 train, validation 정확도를 한 그래프로 그린다.(x축 max depth 값, y축 정확도)\n",
        "    - 찾은 최적의 파라미터와 test set을 이용하여 test accuracy를 계산하고 기입한다.\n",
        "    - 최적의 파라미터를 찾은 것에 대한 설명을 '텍스트 셀'에 작성한다."
      ]
    },
    {
      "cell_type": "code",
      "execution_count": 13,
      "metadata": {
        "id": "IttBH6C94Zli"
      },
      "outputs": [],
      "source": [
        "from sklearn.ensemble import RandomForestClassifier"
      ]
    },
    {
      "cell_type": "code",
      "execution_count": 16,
      "metadata": {
        "id": "C153cWxK4Zli",
        "colab": {
          "base_uri": "https://localhost:8080/",
          "height": 298
        },
        "outputId": "5932a471-fa59-43cf-8c4c-aed4b31dff9c"
      },
      "outputs": [
        {
          "output_type": "stream",
          "name": "stdout",
          "text": [
            "test accuracy = 0.87\n"
          ]
        },
        {
          "output_type": "display_data",
          "data": {
            "text/plain": [
              "<Figure size 432x288 with 1 Axes>"
            ],
            "image/png": "[encoded data removed]"
          },
          "metadata": {
            "needs_background": "light"
          }
        }
      ],
      "source": [
        "### 문제 2 ###\n",
        "### 코드 작성 ###\n",
        "from sklearn.metrics import accuracy_score\n",
        "\n",
        "max_depths = [1, 3, 5, 15, 30, 55, 80, 101]\n",
        "criterion = ['gini', 'entropy']\n",
        "\n",
        "for ct in criterion: # criterion 별로 비교하기 위해서\n",
        "  train_acc = []\n",
        "  validation_acc = []\n",
        "  \n",
        "  for depth in max_depths: # 각 depth마다의 성능을 측정하기 위해서\n",
        "    rf = RandomForestClassifier(criterion = ct, max_depth=depth)\n",
        "    rf.fit(X_train, y_train) # 훈련 데이터로 충분히 학습시킨다\n",
        "\n",
        "    pred = rf.predict(X_val) # 예측값\n",
        "    accuracy = accuracy_score(y_val,pred) # validation 정확도 \n",
        "\n",
        "    train_acc.append(accuracy_score(y_train,rf.predict(X_train)))\n",
        "    validation_acc.append(accuracy_score(y_val,rf.predict(X_val)))\n",
        "\n",
        "\n",
        "  # gini와 entropy를 구분하여 그림\n",
        "  if(ct == 'gini'): \n",
        "      plt.plot(max_depths, train_acc, label = 'gini / train_accuracy')\n",
        "      plt.plot(max_depths, validation_acc, label='gini / validation_accuracy')\n",
        "  else:\n",
        "      plt.plot(max_depths, train_acc, label = 'entropy / train_accuracy')\n",
        "      plt.plot(max_depths, validation_acc, label='entropy / validation_accuracy')\n",
        "\n",
        "  # 그래프 공통 속성\n",
        "  plt.xlabel('max_depth')\n",
        "  plt.ylabel('validation accuracy')\n",
        "  plt.legend()\n",
        "  plt.xticks(max_depths)\n",
        "\n",
        "rf = RandomForestClassifier(criterion = \"gini\", max_depth=15)\n",
        "rf.fit(X_train, y_train) # test data로 학습\n",
        "\n",
        "predict = rf.predict(X_test)\n",
        "accuracy = accuracy_score(y_test,predict)\n",
        "print(f\"test accuracy = {accuracy}\")"
      ]
    },
    {
      "cell_type": "markdown",
      "metadata": {
        "id": "s4r40Dbu4Zli"
      },
      "source": [
        "**설명 작성**  \n",
        "- 최적의 파라미터: max_depth = 15(gini)\n",
        "- 설명: train accuracy가 max_depth = 15 이상부터 제일 높은 값으로 일정하게 유지되고, validation accuracy 또한 gini/entropy 모두 max_depth = 15일 때 가장 크다. 또한 max_depth = 15를 기준으로 정확도의 변화도 앞 뒤로 크게 차이나지 않기 때문에 overfitting/underfitting 되어있지 않다 판단했다.\n",
        "\n",
        "test accuracy : 87%"
      ]
    },
    {
      "cell_type": "markdown",
      "metadata": {
        "id": "KvjjbqDB4Zli"
      },
      "source": [
        "---"
      ]
    },
    {
      "cell_type": "markdown",
      "metadata": {
        "id": "cl1b3f3AaZUw"
      },
      "source": [
        "## 문제3 Cross validation with Linear SVM\n",
        "### 3-1: k-fold\n",
        "- 수업시간에 배운 **5-fold** 를 이용하여 최적의 파라미터를 찾는다. (데이터는 동일)\n",
        "- 수업시간에 배운 linear SVM 모델의 파라미터 C를 cross-validation을 바탕으로 최적화한다.\n",
        "    - **5-fold CV를 할 때, test data를 제외한 90%의 데이터를 사용해야한다.**\n",
        "    - 파라미터에 따라 K-fold CV를 통해 나온 평균 정확도와 각 fold의 정확도들을 한 그래프로 그린다.(x축 선택한 파라미터, y축 정확도)\n",
        "    - 찾은 최적의 파라미터와 test set을 이용하여 test accuracy를 계산하고 기입한다.\n",
        "    - 최적의 파라미터를 찾은 것에 대한 설명을 '텍스트 셀'에 작성한다.\n",
        "\n",
        "### 3-2: Leave One Out\n",
        "- 수업시간에 배운 Leave-One-Out 를 이용하여 최적의 파라미터를 찾는다. (데이터는 동일)\n",
        "- 수업시간에 배운 linear SVM 모델의 파라미터 C를 cross-validation을 바탕으로 최적화한다.\n",
        "  - **Leave-One-Out CV를 할 때, test data를 제외한 90%의 데이터를 사용해야한다.**\n",
        "  - 파라미터에 따라 Leave-One-Out CV를 통해 나온 평균 정확도를 그래프로 그린다.(x축 선택한 파라미터, y축 정확도)\n",
        "  - 찾은 최적의 파라미터와 test set을 이용하여 test accuracy를 계산하고 기입한다.\n",
        "  - 최적의 파라미터를 찾은 것에 대한 설명을 '텍스트 셀'에 작성한다."
      ]
    },
    {
      "cell_type": "code",
      "execution_count": 46,
      "metadata": {
        "id": "fYNny36efEF3",
        "colab": {
          "base_uri": "https://localhost:8080/",
          "height": 315
        },
        "outputId": "8a3d38e9-713a-44c9-e05f-ae593bc0665c"
      },
      "outputs": [
        {
          "output_type": "display_data",
          "data": {
            "text/plain": [
              "<Figure size 432x288 with 1 Axes>"
            ],
            "image/png": "[encoded data removed]"
          },
          "metadata": {
            "needs_background": "light"
          }
        },
        {
          "output_type": "stream",
          "name": "stdout",
          "text": [
            "test accuracy = 0.67\n",
            "max_accuracy_C = 3\n"
          ]
        }
      ],
      "source": [
        "### 문제 3-1 ###\n",
        "### 코드 작성 ###\n",
        "from sklearn.svm import SVC\n",
        "from sklearn.model_selection import KFold\n",
        "X_train, X_test, y_train, y_test = train_test_split(X, y, test_size=0.1)\n",
        "C = [1, 3, 5, 15, 30, 55, 80, 101]\n",
        "\n",
        "c_accuracy = [[] for i in range(len(C)+1)] # 각 fold 마다 C값에 따른 validation accuracy를 저장\n",
        "each_fold_accuracy = [[] for i in range(len(C)+1)] # 각 fold의 validation accuracy를 저장\n",
        "fold_accuracy = [] # 각 fold의 C값에 따른 accuracy를 모두 더한 뒤 평균을 낸 후, 최종적으로 해당 training model의 accuracy를 저장\n",
        "\n",
        "kfold = KFold(n_splits = 5) # 5-fold\n",
        "cnt=0 # 루프에서 현재 몇번 째 fold인지 구분하기 위한 변수\n",
        "\n",
        "for train_idx, val_idx in kfold.split(X_train, y_train):\n",
        "  X_fold_train,X_fold_val = X_train.iloc[train_idx],X_train.iloc[val_idx]\n",
        "  y_fold_train,y_fold_val = y_train.iloc[train_idx],y_train.iloc[val_idx]\n",
        "\n",
        "  for i in range(len(C)):\n",
        "    svm = SVC(kernel = 'rbf', C = C[i])\n",
        "    svm.fit(X_fold_train, y_fold_train)\n",
        "\n",
        "    pred = svm.predict(X_fold_val)\n",
        "    accuracy = accuracy_score(y_fold_val,pred)\n",
        "   \n",
        "    c_accuracy[i].append(accuracy) # C별로 구분되어 있는 리스트이므로, i번째(현재) fold의 c값에 accuracy를 저장 -> C별로 측정되는 평균 accuracy를 구하기 위함\n",
        "    each_fold_accuracy[cnt].append(accuracy) # fold 별로 accuracy를 저장하는 리스트이므로, 현재 fold의 accuracy를 저장 -> 각 fold의 accuaracy 그래프를 그리기 위함\n",
        "\n",
        "  cnt+=1 # 다음 fold로 넘어가므로 +1을 해줌\n",
        "\n",
        "for i in range(len(C)):\n",
        "  mean_accuracy = 0 # 전체 fold의 accuracy를 평균내기 위해 사용되는 변수\n",
        "\n",
        "  for k in range(0,5):\n",
        "    mean_accuracy += c_accuracy[i][k] # 각 fold의 특정 C값에서 도출되는 accuracy를 모두 더한다\n",
        "\n",
        "  fold_accuracy.append(mean_accuracy/5) # fold의 개수만큼 나눠줘서, 현재 model의 각 C별 accracy를 구해준다\n",
        "\n",
        "for i in range(0,5):\n",
        "  plt.plot(C, each_fold_accuracy[i], label = f\"fold-{i+1}\")\n",
        "\n",
        "plt.plot(C, fold_accuracy, label = \"All fold\") # 각 fold의 각 C값에서 도출된 accuracy의 평균이 저장되어있음\n",
        "plt.xlabel('parameter C')\n",
        "plt.ylabel('accuracy')\n",
        "plt.legend()\n",
        "plt.xticks(C)\n",
        "plt.show()\n",
        "\n",
        "svm = SVC(kernel = 'rbf', C = 3)\n",
        "svm.fit(X_train, y_train)\n",
        "accuracy = svm.score(X_test, y_test)\n",
        "\n",
        "print(f\"test accuracy = {accuracy}\")\n",
        "print(f\"max_accuracy_C = {C[fold_accuracy.index(max(fold_accuracy))]}\")"
      ]
    },
    {
      "cell_type": "markdown",
      "metadata": {
        "id": "2xvEdCHAfH0g"
      },
      "source": [
        "**설명 작성**  \n",
        "- 최적의 파라미터: C = 3\n",
        "- 설명: 5-fold 방식을 이용했으니, 5개의 fold의 각 validation accuracy의 평균이 해당 training model의 validation accuracy라 할 수 있다. 사실 평균 accuracy에서 파라미터 별로 accuracy 크기의 차이가 그리 크진 않지만, C = 3일 때 가장 높은 accuracy를 가지므로 C = 3를 최적의 파라미터로 설정했다.\n",
        "\n",
        "test_accuracy = 67%"
      ]
    },
    {
      "cell_type": "code",
      "execution_count": 48,
      "metadata": {
        "id": "80a5iRmvfG6H",
        "colab": {
          "base_uri": "https://localhost:8080/",
          "height": 315
        },
        "outputId": "25b3ac3b-beff-4945-9f97-ae22c315b390"
      },
      "outputs": [
        {
          "output_type": "display_data",
          "data": {
            "text/plain": [
              "<Figure size 432x288 with 1 Axes>"
            ],
            "image/png": "[encoded data removed]"
          },
          "metadata": {
            "needs_background": "light"
          }
        },
        {
          "output_type": "stream",
          "name": "stdout",
          "text": [
            "test accuracy = 0.64\n",
            "max_c = 80\n"
          ]
        }
      ],
      "source": [
        "### 문제 3-2 ###\n",
        "### 코드 작성 ###\n",
        "from sklearn.model_selection import LeaveOneOut\n",
        "C = [1, 3, 5, 15, 30, 55, 80, 101]\n",
        "\n",
        "loocv = LeaveOneOut() # loocv\n",
        "c_accuracy = []\n",
        "\n",
        "for c in C:\n",
        "  accuracy_sum = 0.0 # 각 C에서 측정되는 모든 accuracy를 더해서 저장하는 변수\n",
        "\n",
        "  for train_idx,val_idx in loocv.split(X_train): # train data 한개한개를 모두 validation data로 사용하므로 오래걸린다\n",
        "    X_cv_train, X_cv_val = X_train.iloc[train_idx], X_train.iloc[val_idx]\n",
        "    y_cv_train, y_cv_val = y_train.iloc[train_idx], y_train.iloc[val_idx]\n",
        "\n",
        "    svm = SVC(kernel = 'rbf', C = c)\n",
        "    svm.fit(X_cv_train, y_cv_train) # 충분한 데이터로 학습시킨다\n",
        "\n",
        "    pred = svm.predict(X_cv_val) \n",
        "    accuracy = accuracy_score(y_cv_val,pred)\n",
        "    accuracy_sum += accuracy\n",
        "\n",
        "  c_accuracy.append(accuracy_sum/len(X_train)) # 각 C에서, train data 개수만큼 accuracy를 측정했으므로 accuracy_sum에서 train data 개수로 나눔\n",
        "  #print(accuracy_sum/len(X_train))\n",
        "\n",
        "# 그래프 설정\n",
        "plt.plot(C, c_accuracy, label = \"each C LOOCV\")\n",
        "plt.xlabel('parameter C')\n",
        "plt.ylabel('accuracy')\n",
        "plt.legend()\n",
        "plt.xticks(C)\n",
        "plt.show()\n",
        "\n",
        "svm = SVC(kernel = 'rbf', C = 80) # 최적의 parameter로 다시 model 생성\n",
        "svm.fit(X_train, y_train)\n",
        "accuracy = svm.score(X_test, y_test)\n",
        "\n",
        "print(f\"test accuracy = {accuracy}\")\n",
        "print(f\"max_c = {C[c_accuracy.index(max(c_accuracy))]}\")"
      ]
    },
    {
      "cell_type": "markdown",
      "metadata": {
        "id": "m9BqByTFfLIG"
      },
      "source": [
        "**설명 작성**  \n",
        "- 최적의 파라미터: C = 80\n",
        "- 설명: 각 C별로 loocv 검증을 한 것이므로, 단순히 어떤 C에서 accuracy가 가장 높게 나왔는지 측정했다. C = 80일 때 가장 높은 accuracy가 나와서 C = 80으로 선정했다.\n",
        "\n",
        "test accuracy = 64%"
      ]
    },
    {
      "cell_type": "markdown",
      "metadata": {
        "id": "qUzl5Lcz4Zlj"
      },
      "source": [
        "---"
      ]
    },
    {
      "cell_type": "markdown",
      "metadata": {
        "id": "szX5GgcXfnM1"
      },
      "source": [
        "## 문제4 Regression\n",
        "문제 4 에서는 캘리포니아 주택 가격 데이터셋을 사용합니다.   \n",
        "학습을 통해 주택 가격을 예측하는 문제입니다.  \n",
        "데이터에 대한 자세한 설명은 아래 코드의 description을 참고해주세요."
      ]
    },
    {
      "cell_type": "code",
      "execution_count": 49,
      "metadata": {
        "id": "Gwwkd_GO4Zlj",
        "colab": {
          "base_uri": "https://localhost:8080/"
        },
        "outputId": "35b86671-796e-4ada-fee0-9b28a2346c7e"
      },
      "outputs": [
        {
          "output_type": "stream",
          "name": "stdout",
          "text": [
            ".. _california_housing_dataset:\n",
            "\n",
            "California Housing dataset\n",
            "--------------------------\n",
            "\n",
            "**Data Set Characteristics:**\n",
            "\n",
            "    :Number of Instances: 20640\n",
            "\n",
            "    :Number of Attributes: 8 numeric, predictive attributes and the target\n",
            "\n",
            "    :Attribute Information:\n",
            "        - MedInc        median income in block group\n",
            "        - HouseAge      median house age in block group\n",
            "        - AveRooms      average number of rooms per household\n",
            "        - AveBedrms     average number of bedrooms per household\n",
            "        - Population    block group population\n",
            "        - AveOccup      average number of household members\n",
            "        - Latitude      block group latitude\n",
            "        - Longitude     block group longitude\n",
            "\n",
            "    :Missing Attribute Values: None\n",
            "\n",
            "This dataset was obtained from the StatLib repository.\n",
            "https://www.dcc.fc.up.pt/~ltorgo/Regression/cal_housing.html\n",
            "\n",
            "The target variable is the median house value for California districts,\n",
            "expressed in hundreds of thousands of dollars ($100,000).\n",
            "\n",
            "This dataset was derived from the 1990 U.S. census, using one row per census\n",
            "block group. A block group is the smallest geographical unit for which the U.S.\n",
            "Census Bureau publishes sample data (a block group typically has a population\n",
            "of 600 to 3,000 people).\n",
            "\n",
            "An household is a group of people residing within a home. Since the average\n",
            "number of rooms and bedrooms in this dataset are provided per household, these\n",
            "columns may take surpinsingly large values for block groups with few households\n",
            "and many empty houses, such as vacation resorts.\n",
            "\n",
            "It can be downloaded/loaded using the\n",
            ":func:`sklearn.datasets.fetch_california_housing` function.\n",
            "\n",
            ".. topic:: References\n",
            "\n",
            "    - Pace, R. Kelley and Ronald Barry, Sparse Spatial Autoregressions,\n",
            "      Statistics and Probability Letters, 33 (1997) 291-297\n",
            "\n"
          ]
        }
      ],
      "source": [
        "from sklearn.datasets import fetch_california_housing\n",
        "housing = fetch_california_housing()\n",
        "print(housing.DESCR)"
      ]
    },
    {
      "cell_type": "code",
      "execution_count": 50,
      "metadata": {
        "id": "beqDbNzQi0PR"
      },
      "outputs": [],
      "source": [
        "df = pd.DataFrame(housing.data, columns=housing.feature_names)\n",
        "df['target'] = housing.target\n",
        "# target = median house value for california districts"
      ]
    },
    {
      "cell_type": "code",
      "execution_count": 51,
      "metadata": {
        "id": "Y-4fgqWCkd-o",
        "colab": {
          "base_uri": "https://localhost:8080/"
        },
        "outputId": "cde2da2d-07e5-4d07-db23-0838de600abf"
      },
      "outputs": [
        {
          "output_type": "stream",
          "name": "stdout",
          "text": [
            "   MedInc  HouseAge  AveRooms  AveBedrms  Population  AveOccup  Latitude  \\\n",
            "0  8.3252      41.0  6.984127   1.023810       322.0  2.555556     37.88   \n",
            "1  8.3014      21.0  6.238137   0.971880      2401.0  2.109842     37.86   \n",
            "2  7.2574      52.0  8.288136   1.073446       496.0  2.802260     37.85   \n",
            "3  5.6431      52.0  5.817352   1.073059       558.0  2.547945     37.85   \n",
            "4  3.8462      52.0  6.281853   1.081081       565.0  2.181467     37.85   \n",
            "\n",
            "   Longitude  target  \n",
            "0    -122.23   4.526  \n",
            "1    -122.22   3.585  \n",
            "2    -122.24   3.521  \n",
            "3    -122.25   3.413  \n",
            "4    -122.25   3.422  \n"
          ]
        }
      ],
      "source": [
        "print(df.head())"
      ]
    },
    {
      "cell_type": "code",
      "execution_count": 52,
      "metadata": {
        "id": "zoUn3ZXdkimJ",
        "colab": {
          "base_uri": "https://localhost:8080/"
        },
        "outputId": "d6348ca2-d581-4630-fba8-acd441809e39"
      },
      "outputs": [
        {
          "output_type": "stream",
          "name": "stdout",
          "text": [
            "(20640, 9)\n",
            "             MedInc      HouseAge      AveRooms     AveBedrms    Population  \\\n",
            "count  20640.000000  20640.000000  20640.000000  20640.000000  20640.000000   \n",
            "mean       3.870671     28.639486      5.429000      1.096675   1425.476744   \n",
            "std        1.899822     12.585558      2.474173      0.473911   1132.462122   \n",
            "min        0.499900      1.000000      0.846154      0.333333      3.000000   \n",
            "25%        2.563400     18.000000      4.440716      1.006079    787.000000   \n",
            "50%        3.534800     29.000000      5.229129      1.048780   1166.000000   \n",
            "75%        4.743250     37.000000      6.052381      1.099526   1725.000000   \n",
            "max       15.000100     52.000000    141.909091     34.066667  35682.000000   \n",
            "\n",
            "           AveOccup      Latitude     Longitude        target  \n",
            "count  20640.000000  20640.000000  20640.000000  20640.000000  \n",
            "mean       3.070655     35.631861   -119.569704      2.068558  \n",
            "std       10.386050      2.135952      2.003532      1.153956  \n",
            "min        0.692308     32.540000   -124.350000      0.149990  \n",
            "25%        2.429741     33.930000   -121.800000      1.196000  \n",
            "50%        2.818116     34.260000   -118.490000      1.797000  \n",
            "75%        3.282261     37.710000   -118.010000      2.647250  \n",
            "max     1243.333333     41.950000   -114.310000      5.000010  \n"
          ]
        }
      ],
      "source": [
        "print(df.shape) #(20640, 9)\n",
        "print(df.describe())"
      ]
    },
    {
      "cell_type": "markdown",
      "metadata": {
        "id": "3U8somVc4Zlk"
      },
      "source": [
        "### 문제 4-1 : Adjusted R2 Score\n",
        "- sklearn.metrics 패키지를 사용하여 ```def adjr2```에 Adjusted R2 Score를 구하는 함수를 작성한다.\n",
        "- ```def r2```를 사용하여 ```adjr2```를 구현한다.\n",
        "- 코드 작성 영역 이외의 코드를 수정하지 않는다.\n",
        "- 주어진 함수 파라미터를 사용하여 구현한다."
      ]
    },
    {
      "cell_type": "code",
      "execution_count": 53,
      "metadata": {
        "id": "JbGUADBK4Zlk"
      },
      "outputs": [],
      "source": [
        "from sklearn.metrics import r2_score"
      ]
    },
    {
      "cell_type": "code",
      "execution_count": 54,
      "metadata": {
        "id": "WvqWUQl24Zlk"
      },
      "outputs": [],
      "source": [
        "import numpy as np\n",
        "\n",
        "def r2(actual, predicted):\n",
        "    \"\"\" R2 Score \"\"\"\n",
        "    return r2_score(actual, predicted)\n",
        "\n",
        "###################################\n",
        "def adjr2(actual, predicted, rowcount, featurecount):\n",
        "############ 문제 4-1 ##############\n",
        "    \"\"\" Adjusted R2 Score \"\"\"\n",
        "    # 1 - ( (1-r^2)(n-1) / (n-k-1)) <<<< Adjusted R2를 구하는 공식\n",
        "\n",
        "    n = rowcount # acutal/predicted data의 행 수\n",
        "    k = featurecount # predicted data가 가지는 feature의 수\n",
        "    calr2 = r2(actual, predicted) #계산된 r2 score의 값\n",
        "\n",
        "    adjusted = 1.0 - ((1-calr2)*(n-1) / (n-k-1)) # 공식에 대입\n",
        "\n",
        "    return adjusted\n",
        "\n",
        "####################################\n",
        "####################################"
      ]
    },
    {
      "cell_type": "markdown",
      "metadata": {
        "id": "P-6ZikyP4Zlk"
      },
      "source": [
        "### 문제 4-2 : Feature Selection\n",
        "- sklearn 패키지를 사용하여 feature selection을 수행하는 함수 ```forward_selection```을 구현한다.\n",
        "- Linear Regressor 을 사용하여 feature selection이 어떻게 달라지는 지 관찰한다.\n",
        "- 코드 작성 영역 이외의 코드를 수정하지 않는다.\n",
        "- 주어진 변수들, 자료들을 최대한 활용하여 코드를 작성한다."
      ]
    },
    {
      "cell_type": "code",
      "execution_count": 55,
      "metadata": {
        "id": "WjqDsXSA4Zlk"
      },
      "outputs": [],
      "source": [
        "from sklearn.linear_model import LinearRegression\n",
        "import pandas as pd"
      ]
    },
    {
      "cell_type": "code",
      "execution_count": 56,
      "metadata": {
        "id": "oUf_G0iF4Zlk",
        "colab": {
          "base_uri": "https://localhost:8080/"
        },
        "outputId": "130269a0-11a2-48c8-95f5-947bd6804ba9"
      },
      "outputs": [
        {
          "output_type": "stream",
          "name": "stdout",
          "text": [
            "(20640, 8)\n",
            "(20640,)\n"
          ]
        }
      ],
      "source": [
        "X = df.drop(columns=['target'])\n",
        "y = df['target']\n",
        "y=y.astype('int')\n",
        "print(X.shape)\n",
        "print(y.shape)"
      ]
    },
    {
      "cell_type": "code",
      "execution_count": 57,
      "metadata": {
        "id": "tAQiA64x4Zlk",
        "colab": {
          "base_uri": "https://localhost:8080/"
        },
        "outputId": "f55cae9c-696b-4c89-b337-20c27d957dd1"
      },
      "outputs": [
        {
          "output_type": "stream",
          "name": "stdout",
          "text": [
            "selected_features: ['MedInc', 'HouseAge', 'Latitude', 'Longitude', 'AveBedrms', 'AveRooms', 'AveOccup']\n"
          ]
        }
      ],
      "source": [
        "def forward_selection(X, y): # X: train data, y: train data's target\n",
        "    initial_list = []\n",
        "    included = list(initial_list) # 포함되어야 하는 feature\n",
        "    best_r2 = 0 # 가장 높은 r2 score를 저장\n",
        "\n",
        "    while True:\n",
        "\n",
        "        changed = False # while 문을 빠져나가는 조건으로 활용\n",
        "        excluded = list(set(X.columns)-set(included)) # included list에 없는 column names 저장하는 리스트\n",
        "        new_scores = dict.fromkeys(excluded)\n",
        "\n",
        "        for new_column in excluded:\n",
        "            \n",
        "            model = LinearRegression()\n",
        "\n",
        "            ###########################################\n",
        "            ###### 코드 작성 영역 외 수정 하지 말 것 #########\n",
        "            ################ 문제 4-2 ##################\n",
        "            #print(pd.DataFrame(X[included + [new_column]]))\n",
        "            now_df = pd.DataFrame(X[included + [new_column]]) # 현재 관측 중인 dataframe << 지금까지 선택된 feature와, 후보 feature의 조합으로 이루어짐\n",
        "            model.fit(now_df, y) # 위에서 선택한 df로 model을 학습시킴\n",
        "\n",
        "            actual = y # 정답값\n",
        "            predicted = model.predict(pd.DataFrame(X[included + [new_column]])) #예측값\n",
        "            n = len(y) # data의 행의 개수\n",
        "            k = len(included) + 1 # predicted에 쓰이는 featuer의 수(지금까지 선택된 feature의 수 + 지금 선택한 feature)\n",
        "\n",
        "            r2_val = adjr2(pd.DataFrame(actual), pd.DataFrame(predicted), n, k) \n",
        "            \n",
        "            if(r2_val > best_r2): # 만약 지금 측정한 model의 adjr2값이 이전에 측정된 가장 큰 adjr2보다 크다면\n",
        "              best_r2 = r2_val \n",
        "              global col\n",
        "              col = new_column # 현재 조사 중인 feature을 추가\n",
        "              changed = True #변화가 생겼으므로 계속 forward 진행\n",
        "            \n",
        "        if not changed: # 만약 변화가 없으면(현재 model이 제일 좋으면)\n",
        "              break # 더 이상 forward 안함\n",
        "        else:\n",
        "          included.append(col) # model에 합류된 feature list에 현재 조사 중인 feature 추가\n",
        "\n",
        "\n",
        "        ##############################################\n",
        "        ##############################################\n",
        " \n",
        "    return included\n",
        "\n",
        "selected_features = forward_selection(X, y)\n",
        "print('selected_features:', selected_features)"
      ]
    },
    {
      "cell_type": "markdown",
      "metadata": {
        "id": "0OGUhsrgEwR_"
      },
      "source": [
        "### 문제 4-3: Regularized Model\n",
        "- Scikit-learn 라이브러리를 사용하여 Ridge Regression과 Lasso Regression 모델을 만든다.\n",
        "- train : validation : test **데이터셋의 비율을 8:1:1**로 설정한다.\n",
        "- 문제 4-1의 **forward selection을 통해 얻은 feature만**을 가진 데이터를 사용한다.\n",
        "- 다양한 alpha 값에 대해 validation dataset을 사용하여 각 모델에 대한 **최적의 alpha 값을 찾고 찾은 최적의 alpha 값을 텍스트 셀에 작성**한다.\n",
        "- alpha 값은 아래의 리스트를 사용한다.  \n",
        "```alpha = [0.0001, 0.001,0.01,0.1,1,10, 100, 1000, 10000, 100000]```\n",
        "- alpha 값에 대한 R2 score의 변화를 그래프로 나타낸다.\n",
        "  * **x축: alpha 값**\n",
        "  * **y축: R2 score 값**\n",
        "  * 파란색 선: Ridge 결과, 빨간색 선: Lasso 결과\n",
        "  * 그래프에 **legend**가 포함되어 있어야 한다. \n",
        "- **train과 validation dataset을 합하여 train set을 만든 후 최종 학습 결과를 도출**한다.\n",
        "  * 최적의 alpha 값을 찾을 때 사용한 test set은 변하지 않는다. \n",
        "  * r2 score를 사용하여 train set에 대한 prediction 결과와 test set에 대한 prediction 결과를 구해 print 한다."
      ]
    },
    {
      "cell_type": "code",
      "execution_count": 58,
      "metadata": {
        "id": "NEx72fQh4Zll"
      },
      "outputs": [],
      "source": [
        "from sklearn.linear_model import LinearRegression, Ridge, Lasso\n",
        "from sklearn.metrics import r2_score\n",
        "import numpy as np"
      ]
    },
    {
      "cell_type": "code",
      "execution_count": 60,
      "metadata": {
        "id": "2ZJbj9r2Z4LP",
        "colab": {
          "base_uri": "https://localhost:8080/"
        },
        "outputId": "49fef2d8-eba1-484d-aba4-4b8795e1310a"
      },
      "outputs": [
        {
          "output_type": "stream",
          "name": "stdout",
          "text": [
            "ridge optimal alpha: 0.0001\n",
            "lasso optimal alpha: 0.0001\n"
          ]
        }
      ],
      "source": [
        "### 문제 4-3 ###\n",
        "### 코드 작성 ###\n",
        "X = X[selected_features]\n",
        "X_train, X_test, y_train, y_test = train_test_split(X, y, test_size=0.1)\n",
        "X_train, X_val, y_train, y_val = train_test_split(X_train, y_train, test_size=1/9)\n",
        "alphas = [0.0001, 0.001,0.01,0.1,1,10, 100, 1000, 10000, 100000]\n",
        "\n",
        "ridge_r2_list = []\n",
        "lasso_r2_list = []\n",
        "\n",
        "for a in alphas: # 각 alpha에 대해 반복\n",
        "  rid = Ridge(alpha = a) \n",
        "  rid.fit(X_train, y_train) # ridge model을 충분한 데이터로 학습\n",
        "  \n",
        "  rid_predicted = rid.predict(X_val) \n",
        "  r2_val = r2_score(y_val, rid_predicted) # r2 score값 저장\n",
        "  ridge_r2_list.append(r2_val)\n",
        "\n",
        "  #print(f\"ridge : {r2_val}\")\n",
        "\n",
        "  las = Lasso(alpha = a)\n",
        "  las.fit(X_train, y_train) # lasso model을 충분한 데이터로 학습\n",
        "  \n",
        "  las_predicted = las.predict(X_val)\n",
        "  r2_val = r2_score(y_val, las_predicted) # r2 score값 저장\n",
        "  lasso_r2_list.append(r2_val)\n",
        "\n",
        "  #print(f\"lasso: {r2_val}\")\n",
        "\n",
        "best_ridge_r2 = max(ridge_r2_list) \n",
        "best_ridge_idx = ridge_r2_list.index(best_ridge_r2) #r2 값이 가장 큰 ridge model의 alpha값을 찾음\n",
        "\n",
        "best_lasso_r2 = max(lasso_r2_list)\n",
        "best_lasso_idx = lasso_r2_list.index(best_lasso_r2) #r2 값이 가장 큰 lasso model의 alpha값을 찾음\n",
        "\n",
        "print(f\"ridge optimal alpha: {alphas[best_ridge_idx]}\")\n",
        "print(f\"lasso optimal alpha: {alphas[best_lasso_idx]}\")"
      ]
    },
    {
      "cell_type": "code",
      "execution_count": 61,
      "metadata": {
        "id": "Ym11BIQD4Zll",
        "colab": {
          "base_uri": "https://localhost:8080/",
          "height": 279
        },
        "outputId": "c0fd9222-de53-4e36-da70-120a8f9285e9"
      },
      "outputs": [
        {
          "output_type": "display_data",
          "data": {
            "text/plain": [
              "<Figure size 432x288 with 1 Axes>"
            ],
            "image/png": "[encoded data removed]"
          },
          "metadata": {
            "needs_background": "light"
          }
        }
      ],
      "source": [
        "### 문제 4-3 ###\n",
        "### 그래프 작성 ###\n",
        "plt.plot(alphas, ridge_r2_list, label = \"ridge / r2 per alpha\", color = 'blue')\n",
        "plt.plot(alphas, lasso_r2_list, label = \"lasso / r2 per alpha\", color = 'red')\n",
        "plt.xlabel('alpha')\n",
        "plt.ylabel('R2 Score')\n",
        "plt.legend() # 범례 설정\n",
        "plt.show()"
      ]
    },
    {
      "cell_type": "markdown",
      "metadata": {
        "id": "DS8x1JmkZ6Yl"
      },
      "source": [
        "- Rridge regression 모델 최적의 alpha 값: 0.0001\n",
        "- Lasso regression 모델 최적의 alpha 값: 0.0001"
      ]
    },
    {
      "cell_type": "code",
      "execution_count": 66,
      "metadata": {
        "id": "zio0ZtfdiXCF",
        "colab": {
          "base_uri": "https://localhost:8080/"
        },
        "outputId": "de6b4eba-3307-4944-9f2d-c38d99eec985"
      },
      "outputs": [
        {
          "output_type": "stream",
          "name": "stdout",
          "text": [
            "ridge train data r2_score: 0.5757685301156126\n",
            "ridge test data r2_score: 0.5918685563283452\n",
            "\n",
            "lasso train data r2_score: 0.5757682222437639\n",
            "lasso test data r2_score: 0.5918318709044917\n"
          ]
        }
      ],
      "source": [
        "# 최종 결과 출력\n",
        "\n",
        "# train data와 validation data를 합친다\n",
        "train_and_val_data = pd.concat([X_train, X_val])\n",
        "train_and_val_test = pd.concat([y_train, y_val])\n",
        "\n",
        "# r2 값이 가장 높았던 alpha로 ridge model을 생성\n",
        "rid = Ridge(alpha = alphas[best_ridge_idx])\n",
        "rid.fit(train_and_val_data, train_and_val_test)\n",
        "  \n",
        "# ridge model을 이용해 예측(train / test)\n",
        "rid_predicted = rid.predict(train_and_val_data)\n",
        "print('ridge train data r2_score: {}'.format(r2_score(train_and_val_test, rid_predicted)))\n",
        "\n",
        "rid_predicted = rid.predict(X_test)\n",
        "print('ridge test data r2_score: {}'.format(r2_score(y_test, rid_predicted)))\n",
        "\n",
        "# r2 값이 가장 높았던 alpha로 lasso model을 생성\n",
        "las = Lasso(alpha = alphas[best_lasso_idx])\n",
        "las.fit(train_and_val_data, train_and_val_test)\n",
        "\n",
        "# lasso model을 이용해 예측(train / test)\n",
        "las_predicted = las.predict(train_and_val_data)\n",
        "print('\\nlasso train data r2_score: {}'.format(r2_score(train_and_val_test, las_predicted)))\n",
        "\n",
        "las_predicted = las.predict(X_test)\n",
        "print('lasso test data r2_score: {}'.format(r2_score(y_test, las_predicted)))\n"
      ]
    }
  ],
  "metadata": {
    "colab": {
      "collapsed_sections": [
        "6c34x6aJI_kE",
        "HR6Kw9YhJV8A",
        "P5Gr-LZOLCSP",
        "7OMvtg924Zli"
      ],
      "provenance": [],
      "include_colab_link": true
    },
    "interpreter": {
      "hash": "72f413c705acf8cc7ca758c5c7ce13adba655409ec2684a2da3bcb9a148f4862"
    },
    "kernelspec": {
      "display_name": "Python 3.8.13 ('aae')",
      "language": "python",
      "name": "python3"
    },
    "language_info": {
      "codemirror_mode": {
        "name": "ipython",
        "version": 3
      },
      "file_extension": ".py",
      "mimetype": "text/x-python",
      "name": "python",
      "nbconvert_exporter": "python",
      "pygments_lexer": "ipython3",
      "version": "3.8.13"
    },
    "vscode": {
      "interpreter": {
        "hash": "4df1aae1e0b0d359ea12b19172edf8042a617e338541b2db12efe6535537db04"
      }
    }
  },
  "nbformat": 4,
  "nbformat_minor": 0
}