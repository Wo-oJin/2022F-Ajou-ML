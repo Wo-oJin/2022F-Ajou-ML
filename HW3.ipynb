{
  "cells": [
    {
      "cell_type": "markdown",
      "metadata": {
        "id": "view-in-github",
        "colab_type": "text"
      },
      "source": [
        "<a href=\"https://colab.research.google.com/github/Wo-oJin/2022F-Ajou-ML/blob/main/HW3.ipynb\" target=\"_parent\"><img src=\"https://colab.research.google.com/assets/colab-badge.svg\" alt=\"Open In Colab\"/></a>"
      ]
    },
    {
      "cell_type": "markdown",
      "metadata": {
        "id": "m1rbIpJvJD_m"
      },
      "source": [
        "# **HW3 :: Parameter Tuning and Classifcation**"
      ]
    },
    {
      "cell_type": "markdown",
      "metadata": {
        "id": "6c34x6aJI_kE"
      },
      "source": [
        "## 코랩과 구글 드라이브 연동 OR 로컬에서 파일 업로드\n",
        "- 해당 섹션 코드 수정 가능"
      ]
    },
    {
      "cell_type": "code",
      "execution_count": 18,
      "metadata": {
        "id": "PLXjmIbsJMlk"
      },
      "outputs": [],
      "source": [
        "# 연동 OR 파일 업로드\n",
        "# 연동 시 path 설정 주의"
      ]
    },
    {
      "cell_type": "code",
      "execution_count": 19,
      "metadata": {
        "id": "4VXRY6hDJ60i",
        "colab": {
          "base_uri": "https://localhost:8080/"
        },
        "outputId": "9a36bbfe-1635-4a9a-a49d-6291f62488f1"
      },
      "outputs": [
        {
          "output_type": "stream",
          "name": "stdout",
          "text": [
            "Drive already mounted at /content/drive; to attempt to forcibly remount, call drive.mount(\"/content/drive\", force_remount=True).\n"
          ]
        }
      ],
      "source": [
        "from google.colab import drive\n",
        "drive.mount('/content/drive')"
      ]
    },
    {
      "cell_type": "markdown",
      "metadata": {
        "id": "HR6Kw9YhJV8A"
      },
      "source": [
        "## 데이터 불러오기"
      ]
    },
    {
      "cell_type": "code",
      "execution_count": 20,
      "metadata": {
        "id": "29BsCuUtKjKA"
      },
      "outputs": [],
      "source": [
        "import numpy as np\n",
        "import pandas as pd"
      ]
    },
    {
      "cell_type": "code",
      "execution_count": 21,
      "metadata": {
        "id": "e6BsnGgg4Zle",
        "colab": {
          "base_uri": "https://localhost:8080/"
        },
        "outputId": "758ab27f-a350-427c-dc99-5fb8ae3b02a6"
      },
      "outputs": [
        {
          "output_type": "stream",
          "name": "stdout",
          "text": [
            "[Errno 2] No such file or directory: './drive/MyDrive/Colab Notebooks/HW3'\n",
            "/content/drive/MyDrive/Colab Notebooks/HW3\n"
          ]
        }
      ],
      "source": [
        "%cd ./drive/MyDrive/Colab Notebooks/HW3\n",
        "df = pd.read_csv('airline_sampled2.csv') \n",
        "# HW1에서 사용한 데이터를 샘플링한 파일이므로 꼭 제공된 csv 파일을 사용할 것"
      ]
    },
    {
      "cell_type": "code",
      "execution_count": 22,
      "metadata": {
        "id": "XyXXUUUv4Zlf",
        "colab": {
          "base_uri": "https://localhost:8080/",
          "height": 314
        },
        "outputId": "94d3a126-403d-4e47-8a54-c9a9ac0815e5"
      },
      "outputs": [
        {
          "output_type": "execute_result",
          "data": {
            "text/plain": [
              "   Unnamed: 0  Unnamed: 0.1  Gender  Customer Type  Age  Type of Travel  \\\n",
              "0        8827          8858       0              1   27               1   \n",
              "1        3588          3601       1              0   22               1   \n",
              "2        1011          1017       0              0   23               1   \n",
              "3        7212          7237       1              0   21               1   \n",
              "4        5025          5044       1              1   67               0   \n",
              "\n",
              "   Class  Flight Distance  Inflight wifi service  \\\n",
              "0      2              183                      4   \n",
              "1      0              829                      2   \n",
              "2      2             1020                      4   \n",
              "3      0             1028                      4   \n",
              "4      0              626                      3   \n",
              "\n",
              "   Departure/Arrival time convenient  ...  Inflight entertainment  \\\n",
              "0                                  4  ...                       5   \n",
              "1                                  3  ...                       1   \n",
              "2                                  5  ...                       4   \n",
              "3                                  4  ...                       3   \n",
              "4                                  4  ...                       2   \n",
              "\n",
              "   On-board service  Leg room service  Baggage handling  Checkin service  \\\n",
              "0                 4                 3                 4                3   \n",
              "1                 1                 3                 3                3   \n",
              "2                 3                 4                 5                3   \n",
              "3                 3                 3                 2                5   \n",
              "4                 2                 3                 2                5   \n",
              "\n",
              "   Inflight service  Cleanliness  Departure Delay in Minutes  \\\n",
              "0                 4            5                           0   \n",
              "1                 3            1                           4   \n",
              "2                 5            4                           0   \n",
              "3                 4            3                           0   \n",
              "4                 2            3                           0   \n",
              "\n",
              "   Arrival Delay in Minutes  satisfaction  \n",
              "0                       7.0             0  \n",
              "1                       4.0             0  \n",
              "2                       0.0             1  \n",
              "3                       0.0             1  \n",
              "4                       0.0             0  \n",
              "\n",
              "[5 rows x 25 columns]"
            ],
            "text/html": [
              "\n",
              "  <div id=\"df-e6324d8e-f9f5-47cf-afc6-d00f3d65f756\">\n",
              "    <div class=\"colab-df-container\">\n",
              "      <div>\n",
              "<style scoped>\n",
              "    .dataframe tbody tr th:only-of-type {\n",
              "        vertical-align: middle;\n",
              "    }\n",
              "\n",
              "    .dataframe tbody tr th {\n",
              "        vertical-align: top;\n",
              "    }\n",
              "\n",
              "    .dataframe thead th {\n",
              "        text-align: right;\n",
              "    }\n",
              "</style>\n",
              "<table border=\"1\" class=\"dataframe\">\n",
              "  <thead>\n",
              "    <tr style=\"text-align: right;\">\n",
              "      <th></th>\n",
              "      <th>Unnamed: 0</th>\n",
              "      <th>Unnamed: 0.1</th>\n",
              "      <th>Gender</th>\n",
              "      <th>Customer Type</th>\n",
              "      <th>Age</th>\n",
              "      <th>Type of Travel</th>\n",
              "      <th>Class</th>\n",
              "      <th>Flight Distance</th>\n",
              "      <th>Inflight wifi service</th>\n",
              "      <th>Departure/Arrival time convenient</th>\n",
              "      <th>...</th>\n",
              "      <th>Inflight entertainment</th>\n",
              "      <th>On-board service</th>\n",
              "      <th>Leg room service</th>\n",
              "      <th>Baggage handling</th>\n",
              "      <th>Checkin service</th>\n",
              "      <th>Inflight service</th>\n",
              "      <th>Cleanliness</th>\n",
              "      <th>Departure Delay in Minutes</th>\n",
              "      <th>Arrival Delay in Minutes</th>\n",
              "      <th>satisfaction</th>\n",
              "    </tr>\n",
              "  </thead>\n",
              "  <tbody>\n",
              "    <tr>\n",
              "      <th>0</th>\n",
              "      <td>8827</td>\n",
              "      <td>8858</td>\n",
              "      <td>0</td>\n",
              "      <td>1</td>\n",
              "      <td>27</td>\n",
              "      <td>1</td>\n",
              "      <td>2</td>\n",
              "      <td>183</td>\n",
              "      <td>4</td>\n",
              "      <td>4</td>\n",
              "      <td>...</td>\n",
              "      <td>5</td>\n",
              "      <td>4</td>\n",
              "      <td>3</td>\n",
              "      <td>4</td>\n",
              "      <td>3</td>\n",
              "      <td>4</td>\n",
              "      <td>5</td>\n",
              "      <td>0</td>\n",
              "      <td>7.0</td>\n",
              "      <td>0</td>\n",
              "    </tr>\n",
              "    <tr>\n",
              "      <th>1</th>\n",
              "      <td>3588</td>\n",
              "      <td>3601</td>\n",
              "      <td>1</td>\n",
              "      <td>0</td>\n",
              "      <td>22</td>\n",
              "      <td>1</td>\n",
              "      <td>0</td>\n",
              "      <td>829</td>\n",
              "      <td>2</td>\n",
              "      <td>3</td>\n",
              "      <td>...</td>\n",
              "      <td>1</td>\n",
              "      <td>1</td>\n",
              "      <td>3</td>\n",
              "      <td>3</td>\n",
              "      <td>3</td>\n",
              "      <td>3</td>\n",
              "      <td>1</td>\n",
              "      <td>4</td>\n",
              "      <td>4.0</td>\n",
              "      <td>0</td>\n",
              "    </tr>\n",
              "    <tr>\n",
              "      <th>2</th>\n",
              "      <td>1011</td>\n",
              "      <td>1017</td>\n",
              "      <td>0</td>\n",
              "      <td>0</td>\n",
              "      <td>23</td>\n",
              "      <td>1</td>\n",
              "      <td>2</td>\n",
              "      <td>1020</td>\n",
              "      <td>4</td>\n",
              "      <td>5</td>\n",
              "      <td>...</td>\n",
              "      <td>4</td>\n",
              "      <td>3</td>\n",
              "      <td>4</td>\n",
              "      <td>5</td>\n",
              "      <td>3</td>\n",
              "      <td>5</td>\n",
              "      <td>4</td>\n",
              "      <td>0</td>\n",
              "      <td>0.0</td>\n",
              "      <td>1</td>\n",
              "    </tr>\n",
              "    <tr>\n",
              "      <th>3</th>\n",
              "      <td>7212</td>\n",
              "      <td>7237</td>\n",
              "      <td>1</td>\n",
              "      <td>0</td>\n",
              "      <td>21</td>\n",
              "      <td>1</td>\n",
              "      <td>0</td>\n",
              "      <td>1028</td>\n",
              "      <td>4</td>\n",
              "      <td>4</td>\n",
              "      <td>...</td>\n",
              "      <td>3</td>\n",
              "      <td>3</td>\n",
              "      <td>3</td>\n",
              "      <td>2</td>\n",
              "      <td>5</td>\n",
              "      <td>4</td>\n",
              "      <td>3</td>\n",
              "      <td>0</td>\n",
              "      <td>0.0</td>\n",
              "      <td>1</td>\n",
              "    </tr>\n",
              "    <tr>\n",
              "      <th>4</th>\n",
              "      <td>5025</td>\n",
              "      <td>5044</td>\n",
              "      <td>1</td>\n",
              "      <td>1</td>\n",
              "      <td>67</td>\n",
              "      <td>0</td>\n",
              "      <td>0</td>\n",
              "      <td>626</td>\n",
              "      <td>3</td>\n",
              "      <td>4</td>\n",
              "      <td>...</td>\n",
              "      <td>2</td>\n",
              "      <td>2</td>\n",
              "      <td>3</td>\n",
              "      <td>2</td>\n",
              "      <td>5</td>\n",
              "      <td>2</td>\n",
              "      <td>3</td>\n",
              "      <td>0</td>\n",
              "      <td>0.0</td>\n",
              "      <td>0</td>\n",
              "    </tr>\n",
              "  </tbody>\n",
              "</table>\n",
              "<p>5 rows × 25 columns</p>\n",
              "</div>\n",
              "      <button class=\"colab-df-convert\" onclick=\"convertToInteractive('df-e6324d8e-f9f5-47cf-afc6-d00f3d65f756')\"\n",
              "              title=\"Convert this dataframe to an interactive table.\"\n",
              "              style=\"display:none;\">\n",
              "        \n",
              "  <svg xmlns=\"http://www.w3.org/2000/svg\" height=\"24px\"viewBox=\"0 0 24 24\"\n",
              "       width=\"24px\">\n",
              "    <path d=\"M0 0h24v24H0V0z\" fill=\"none\"/>\n",
              "    <path d=\"M18.56 5.44l.94 2.06.94-2.06 2.06-.94-2.06-.94-.94-2.06-.94 2.06-2.06.94zm-11 1L8.5 8.5l.94-2.06 2.06-.94-2.06-.94L8.5 2.5l-.94 2.06-2.06.94zm10 10l.94 2.06.94-2.06 2.06-.94-2.06-.94-.94-2.06-.94 2.06-2.06.94z\"/><path d=\"M17.41 7.96l-1.37-1.37c-.4-.4-.92-.59-1.43-.59-.52 0-1.04.2-1.43.59L10.3 9.45l-7.72 7.72c-.78.78-.78 2.05 0 2.83L4 21.41c.39.39.9.59 1.41.59.51 0 1.02-.2 1.41-.59l7.78-7.78 2.81-2.81c.8-.78.8-2.07 0-2.86zM5.41 20L4 18.59l7.72-7.72 1.47 1.35L5.41 20z\"/>\n",
              "  </svg>\n",
              "      </button>\n",
              "      \n",
              "  <style>\n",
              "    .colab-df-container {\n",
              "      display:flex;\n",
              "      flex-wrap:wrap;\n",
              "      gap: 12px;\n",
              "    }\n",
              "\n",
              "    .colab-df-convert {\n",
              "      background-color: #E8F0FE;\n",
              "      border: none;\n",
              "      border-radius: 50%;\n",
              "      cursor: pointer;\n",
              "      display: none;\n",
              "      fill: #1967D2;\n",
              "      height: 32px;\n",
              "      padding: 0 0 0 0;\n",
              "      width: 32px;\n",
              "    }\n",
              "\n",
              "    .colab-df-convert:hover {\n",
              "      background-color: #E2EBFA;\n",
              "      box-shadow: 0px 1px 2px rgba(60, 64, 67, 0.3), 0px 1px 3px 1px rgba(60, 64, 67, 0.15);\n",
              "      fill: #174EA6;\n",
              "    }\n",
              "\n",
              "    [theme=dark] .colab-df-convert {\n",
              "      background-color: #3B4455;\n",
              "      fill: #D2E3FC;\n",
              "    }\n",
              "\n",
              "    [theme=dark] .colab-df-convert:hover {\n",
              "      background-color: #434B5C;\n",
              "      box-shadow: 0px 1px 3px 1px rgba(0, 0, 0, 0.15);\n",
              "      filter: drop-shadow(0px 1px 2px rgba(0, 0, 0, 0.3));\n",
              "      fill: #FFFFFF;\n",
              "    }\n",
              "  </style>\n",
              "\n",
              "      <script>\n",
              "        const buttonEl =\n",
              "          document.querySelector('#df-e6324d8e-f9f5-47cf-afc6-d00f3d65f756 button.colab-df-convert');\n",
              "        buttonEl.style.display =\n",
              "          google.colab.kernel.accessAllowed ? 'block' : 'none';\n",
              "\n",
              "        async function convertToInteractive(key) {\n",
              "          const element = document.querySelector('#df-e6324d8e-f9f5-47cf-afc6-d00f3d65f756');\n",
              "          const dataTable =\n",
              "            await google.colab.kernel.invokeFunction('convertToInteractive',\n",
              "                                                     [key], {});\n",
              "          if (!dataTable) return;\n",
              "\n",
              "          const docLinkHtml = 'Like what you see? Visit the ' +\n",
              "            '<a target=\"_blank\" href=https://colab.research.google.com/notebooks/data_table.ipynb>data table notebook</a>'\n",
              "            + ' to learn more about interactive tables.';\n",
              "          element.innerHTML = '';\n",
              "          dataTable['output_type'] = 'display_data';\n",
              "          await google.colab.output.renderOutput(dataTable, element);\n",
              "          const docLink = document.createElement('div');\n",
              "          docLink.innerHTML = docLinkHtml;\n",
              "          element.appendChild(docLink);\n",
              "        }\n",
              "      </script>\n",
              "    </div>\n",
              "  </div>\n",
              "  "
            ]
          },
          "metadata": {},
          "execution_count": 22
        }
      ],
      "source": [
        "df.head()"
      ]
    },
    {
      "cell_type": "markdown",
      "metadata": {
        "id": "fZDTxR6wKuPO"
      },
      "source": [
        "## 데이터 나누기"
      ]
    },
    {
      "cell_type": "markdown",
      "metadata": {
        "id": "h5enxbYKbAhW"
      },
      "source": [
        "### **주의 사항**\n",
        "train_test_split에 random seed를 사용하여 split set을 고정한다.\n",
        "- 모든 문제에 같은 random seed를 부여할 필요는 없다.\n"
      ]
    },
    {
      "cell_type": "code",
      "execution_count": 123,
      "metadata": {
        "id": "V1zQHUKdKWFz",
        "colab": {
          "base_uri": "https://localhost:8080/"
        },
        "outputId": "fe0f4f6f-70df-4015-b97d-6f3bdf324945"
      },
      "outputs": [
        {
          "output_type": "stream",
          "name": "stdout",
          "text": [
            "X_train's shape :  (800, 24)\n",
            "y_train's shape :  (800,)\n",
            "\n",
            "X_val's shape :  (100, 24)\n",
            "y_val's shape :  (100,)\n",
            "\n",
            "X_test's shape :  (100, 24)\n",
            "y_test's shape :  (100,)\n"
          ]
        }
      ],
      "source": [
        "from sklearn.model_selection import train_test_split\n",
        "\n",
        "X = df.drop('satisfaction', axis=1) # dataframe\n",
        "y = df['satisfaction'] #series\n",
        "y=y.astype('int')\n",
        "  \n",
        "X_train, X_test, y_train, y_test = train_test_split(X, y, test_size=0.1)\n",
        "X_train, X_val, y_train, y_val = train_test_split(X_train, y_train, test_size=1/9)\n",
        "\n",
        "print(\"X_train's shape : \", X_train.shape)\n",
        "print(\"y_train's shape : \", y_train.shape)\n",
        "print(\"\\nX_val's shape : \", X_val.shape)\n",
        "print(\"y_val's shape : \", y_val.shape)\n",
        "print(\"\\nX_test's shape : \", X_test.shape)\n",
        "print(\"y_test's shape : \", y_test.shape)"
      ]
    },
    {
      "cell_type": "markdown",
      "metadata": {
        "id": "P5Gr-LZOLCSP"
      },
      "source": [
        "## 문제1 KNN\n",
        "\n",
        "\n",
        "\n",
        "- Scikit-learn 라이브러리를 이용하여 KNN의 최적의 파라미터를 찾는다.\n",
        "    - 최근접 이웃을 찾기 위한 거리의 종류로 최소한 두 가지 이상의 거리 척도를 사용한다.\n",
        "    - K값을 최소 3개 이상 비교한다.\n",
        "    - 거리 척도, k값에 따라 train, validation 정확도를 한 그래프로 그린다.(x축 k값, y축 정확도)\n",
        "    - 찾은 최적의 파라미터와 test set 이용하여 test_accuracy 계산하고 기입한다.\n",
        "    - 최적의 파라미터를 찾은 것에 대한 설명을 '텍스트 셀'에 작성한다.\n",
        "\n"
      ]
    },
    {
      "cell_type": "code",
      "execution_count": 117,
      "metadata": {
        "id": "vVbdK0ERLSq6"
      },
      "outputs": [],
      "source": [
        "from sklearn.neighbors import KNeighborsClassifier\n",
        "from sklearn import metrics\n",
        "import matplotlib.pyplot as plt"
      ]
    },
    {
      "cell_type": "code",
      "execution_count": 130,
      "metadata": {
        "id": "ME76ne9cdSMa",
        "colab": {
          "base_uri": "https://localhost:8080/",
          "height": 559
        },
        "outputId": "fe56a844-b3df-49fe-d935-f923e94404f2"
      },
      "outputs": [
        {
          "output_type": "display_data",
          "data": {
            "text/plain": [
              "<Figure size 432x288 with 1 Axes>"
            ],
            "image/png": "[encoded data removed]"
          },
          "metadata": {
            "needs_background": "light"
          }
        },
        {
          "output_type": "display_data",
          "data": {
            "text/plain": [
              "<Figure size 432x288 with 1 Axes>"
            ],
            "image/png": "[encoded data removed]"
          },
          "metadata": {
            "needs_background": "light"
          }
        },
        {
          "output_type": "stream",
          "name": "stdout",
          "text": [
            "정확도: 0.62\n"
          ]
        }
      ],
      "source": [
        "### 문제 1 ###\n",
        "### 코드 작성 ###\n",
        "K = [1, 3, 5, 15, 30, 55, 80, 101]\n",
        "\n",
        "for i in [1,2]: # 1: 맨해튼 거리 척도, 2: 유클리디안 거리 척도\n",
        "  train_acc = []\n",
        "  validation_acc = []\n",
        "\n",
        "  for j in K:\n",
        "    classifier = KNeighborsClassifier(n_neighbors = j, p = i, metric = 'minkowski')\n",
        "    classifier.fit(X_train, y_train) # 훈련데이터로 충분히 학습시킨다\n",
        "\n",
        "    train_acc.append(classifier.score(X_train, y_train))\n",
        "    validation_acc.append(classifier.score(X_val, y_val))\n",
        "  \n",
        "  if(i == 1):\n",
        "    plt.plot(K, train_acc, label = 'Manhatten / train_accuracy')\n",
        "    plt.plot(K, validation_acc, label='Manhatten / validation_accuracy')\n",
        "  else:\n",
        "    plt.plot(K, train_acc, label = 'Euclidean / train_accuracy')\n",
        "    plt.plot(K, validation_acc, label='Euclidean / validation_accuracy')\n",
        "\n",
        "  plt.xlabel('K')\n",
        "  plt.ylabel('validation accuracy')\n",
        "  plt.legend()\n",
        "  plt.xticks(K)\n",
        "  plt.show()\n",
        "\n",
        "classifier = KNeighborsClassifier(n_neighbors = 55, p = 1, metric = 'minkowski')\n",
        "classifier.fit(X_train, y_train) # 훈련데이터로 충분히 학습시킨다\n",
        "test_accuracy = classifier.score(X_test, y_test)\n",
        "print(f\"정확도: {test_accuracy}\")"
      ]
    },
    {
      "cell_type": "markdown",
      "metadata": {
        "id": "8-BMEqCFdfsR"
      },
      "source": [
        "**설명 작성**  \n",
        "- 최적의 파라미터: K = 55\n",
        "- 설명: validation accuracy만 살펴봤을 땐, 맨해튼 거리와 유클리디안 거리 모두 k=55일 때 높은 편에 속한다. 또한 k=55를 기점으로 train_accuracy 및 validation_accuracy가 지속적으로 감소 및 증가하는 추세를 보이는데 이 추세가 급격한 것이 아닌 완만한 편이라 overfitting 및 underfitting의 위험성도 없다고 판단했다. \n",
        "\n",
        " 결론적으로, 각 거리 척도에서 validation_accuracy가 가장 높으며 train, validation accuracy가 k=55을 전후로 완만한 변화율을 보이고 있기 때문에 k=55를 최적의 파라미터로 설정했다.\n",
        "\n",
        " 또한 거리 척도는 k=55일 때 가장 높은 validation accuracy를 보이는 맨해튼 거리를 택했다.\n",
        "\n",
        " test accuracy: 62%"
      ]
    },
    {
      "cell_type": "markdown",
      "metadata": {
        "id": "mZkD2D1i4Zli"
      },
      "source": [
        "---"
      ]
    },
    {
      "cell_type": "markdown",
      "metadata": {
        "id": "7OMvtg924Zli"
      },
      "source": [
        "## 문제2 Random Forest\n",
        "\n",
        "\n",
        "- Scikit-learn 라이브러리를 이용하여 Random Forest의 최적의 파라미터를 찾는다.\n",
        "    - Criterion 중 최소 두개를 비교한다.\n",
        "    - 최적의 파라미터 max depth 값을 찾는다.\n",
        "    - 파라미터에 따라 train, validation 정확도를 한 그래프로 그린다.(x축 max depth 값, y축 정확도)\n",
        "    - 찾은 최적의 파라미터와 test set을 이용하여 test accuracy를 계산하고 기입한다.\n",
        "    - 최적의 파라미터를 찾은 것에 대한 설명을 '텍스트 셀'에 작성한다."
      ]
    },
    {
      "cell_type": "code",
      "execution_count": null,
      "metadata": {
        "id": "IttBH6C94Zli"
      },
      "outputs": [],
      "source": [
        "from sklearn.ensemble import RandomForestClassifier"
      ]
    },
    {
      "cell_type": "code",
      "execution_count": null,
      "metadata": {
        "id": "C153cWxK4Zli"
      },
      "outputs": [],
      "source": [
        "### 문제 2 ###\n",
        "### 코드 작성 ###"
      ]
    },
    {
      "cell_type": "markdown",
      "metadata": {
        "id": "s4r40Dbu4Zli"
      },
      "source": [
        "**설명 작성**  \n",
        "- 최적의 파라미터:\n",
        "- 설명:"
      ]
    },
    {
      "cell_type": "markdown",
      "metadata": {
        "id": "KvjjbqDB4Zli"
      },
      "source": [
        "---"
      ]
    },
    {
      "cell_type": "markdown",
      "metadata": {
        "id": "cl1b3f3AaZUw"
      },
      "source": [
        "## 문제3 Cross validation with Linear SVM\n",
        "### 3-1: k-fold\n",
        "- 수업시간에 배운 **5-fold** 를 이용하여 최적의 파라미터를 찾는다. (데이터는 동일)\n",
        "- 수업시간에 배운 linear SVM 모델의 파라미터 C를 cross-validation을 바탕으로 최적화한다.\n",
        "    - **5-fold CV를 할 때, test data를 제외한 90%의 데이터를 사용해야한다.**\n",
        "    - 파라미터에 따라 K-fold CV를 통해 나온 평균 정확도와 각 fold의 정확도들을 한 그래프로 그린다.(x축 선택한 파라미터, y축 정확도)\n",
        "    - 찾은 최적의 파라미터와 test set을 이용하여 test accuracy를 계산하고 기입한다.\n",
        "    - 최적의 파라미터를 찾은 것에 대한 설명을 '텍스트 셀'에 작성한다.\n",
        "\n",
        "### 3-2: Leave One Out\n",
        "- 수업시간에 배운 Leave-One-Out 를 이용하여 최적의 파라미터를 찾는다. (데이터는 동일)\n",
        "- 수업시간에 배운 linear SVM 모델의 파라미터 C를 cross-validation을 바탕으로 최적화한다.\n",
        "  - **Leave-One-Out CV를 할 때, test data를 제외한 90%의 데이터를 사용해야한다.**\n",
        "  - 파라미터에 따라 Leave-One-Out CV를 통해 나온 평균 정확도를 그래프로 그린다.(x축 선택한 파라미터, y축 정확도)\n",
        "  - 찾은 최적의 파라미터와 test set을 이용하여 test accuracy를 계산하고 기입한다.\n",
        "  - 최적의 파라미터를 찾은 것에 대한 설명을 '텍스트 셀'에 작성한다."
      ]
    },
    {
      "cell_type": "code",
      "execution_count": null,
      "metadata": {
        "id": "fYNny36efEF3"
      },
      "outputs": [],
      "source": [
        "### 문제 3-1 ###\n",
        "### 코드 작성 ###"
      ]
    },
    {
      "cell_type": "markdown",
      "metadata": {
        "id": "2xvEdCHAfH0g"
      },
      "source": [
        "**설명 작성**  \n",
        "- 최적의 파라미터:\n",
        "- 설명:"
      ]
    },
    {
      "cell_type": "code",
      "execution_count": null,
      "metadata": {
        "id": "80a5iRmvfG6H"
      },
      "outputs": [],
      "source": [
        "### 문제 3-2 ###\n",
        "### 코드 작성 ###"
      ]
    },
    {
      "cell_type": "markdown",
      "metadata": {
        "id": "m9BqByTFfLIG"
      },
      "source": [
        "**설명 작성**  \n",
        "- 최적의 파라미터:\n",
        "- 설명:"
      ]
    },
    {
      "cell_type": "markdown",
      "metadata": {
        "id": "qUzl5Lcz4Zlj"
      },
      "source": [
        "---"
      ]
    },
    {
      "cell_type": "markdown",
      "metadata": {
        "id": "szX5GgcXfnM1"
      },
      "source": [
        "## 문제4 Regression\n",
        "문제 4 에서는 캘리포니아 주택 가격 데이터셋을 사용합니다.   \n",
        "학습을 통해 주택 가격을 예측하는 문제입니다.  \n",
        "데이터에 대한 자세한 설명은 아래 코드의 description을 참고해주세요."
      ]
    },
    {
      "cell_type": "code",
      "execution_count": null,
      "metadata": {
        "id": "Gwwkd_GO4Zlj"
      },
      "outputs": [],
      "source": [
        "from sklearn.datasets import fetch_california_housing\n",
        "housing = fetch_california_housing()\n",
        "print(housing.DESCR)"
      ]
    },
    {
      "cell_type": "code",
      "execution_count": null,
      "metadata": {
        "id": "beqDbNzQi0PR"
      },
      "outputs": [],
      "source": [
        "df = pd.DataFrame(housing.data, columns=housing.feature_names)\n",
        "df['target'] = housing.target"
      ]
    },
    {
      "cell_type": "code",
      "execution_count": null,
      "metadata": {
        "id": "Y-4fgqWCkd-o"
      },
      "outputs": [],
      "source": [
        "print(df.head())"
      ]
    },
    {
      "cell_type": "code",
      "execution_count": null,
      "metadata": {
        "id": "zoUn3ZXdkimJ"
      },
      "outputs": [],
      "source": [
        "print(df.shape) #(20640, 9)\n",
        "print(df.describe())"
      ]
    },
    {
      "cell_type": "markdown",
      "metadata": {
        "id": "3U8somVc4Zlk"
      },
      "source": [
        "### 문제 4-1 : Adjusted R2 Score\n",
        "- sklearn.metrics 패키지를 사용하여 ```def adjr2```에 Adjusted R2 Score를 구하는 함수를 작성한다.\n",
        "- ```def r2```를 사용하여 ```adjr2```를 구현한다.\n",
        "- 코드 작성 영역 이외의 코드를 수정하지 않는다.\n",
        "- 주어진 함수 파라미터를 사용하여 구현한다."
      ]
    },
    {
      "cell_type": "code",
      "execution_count": null,
      "metadata": {
        "id": "JbGUADBK4Zlk"
      },
      "outputs": [],
      "source": [
        "from sklearn.metrics import r2_score"
      ]
    },
    {
      "cell_type": "code",
      "execution_count": null,
      "metadata": {
        "id": "WvqWUQl24Zlk"
      },
      "outputs": [],
      "source": [
        "import numpy as np\n",
        "\n",
        "def r2(actual, predicted):\n",
        "    \"\"\" R2 Score \"\"\"\n",
        "    return r2_score(actual, predicted)\n",
        "\n",
        "###################################\n",
        "def adjr2(actual, predicted, rowcount, featurecount):\n",
        "############ 문제 4-1 ##############\n",
        "    \"\"\" Adjusted R2 Score \"\"\"\n",
        "\n",
        "####################################\n",
        "####################################"
      ]
    },
    {
      "cell_type": "markdown",
      "metadata": {
        "id": "P-6ZikyP4Zlk"
      },
      "source": [
        "### 문제 4-2 : Feature Selection\n",
        "- sklearn 패키지를 사용하여 feature selection을 수행하는 함수 ```forward_selection```을 구현한다.\n",
        "- Linear Regressor 을 사용하여 feature selection이 어떻게 달라지는 지 관찰한다.\n",
        "- 코드 작성 영역 이외의 코드를 수정하지 않는다.\n",
        "- 주어진 변수들, 자료들을 최대한 활용하여 코드를 작성한다."
      ]
    },
    {
      "cell_type": "code",
      "execution_count": null,
      "metadata": {
        "id": "WjqDsXSA4Zlk"
      },
      "outputs": [],
      "source": [
        "from sklearn.linear_model import LinearRegression\n",
        "import pandas as pd"
      ]
    },
    {
      "cell_type": "code",
      "execution_count": null,
      "metadata": {
        "id": "oUf_G0iF4Zlk"
      },
      "outputs": [],
      "source": [
        "X = df.drop(columns=['target'])\n",
        "y = df['target']\n",
        "y=y.astype('int')\n",
        "print(X.shape)\n",
        "print(y.shape)"
      ]
    },
    {
      "cell_type": "code",
      "execution_count": null,
      "metadata": {
        "collapsed": true,
        "id": "tAQiA64x4Zlk"
      },
      "outputs": [],
      "source": [
        "def forward_selection(X, y): # X: train data, y: train data's target\n",
        "    initial_list = []\n",
        "    included = list(initial_list) # 포함되어야 하는 feature\n",
        "    best_r2 = 0 # 가장 높은 r2 score를 저장\n",
        "\n",
        "    while True:\n",
        "\n",
        "        changed = False # while 문을 빠져나가는 조건으로 활용\n",
        "        excluded = list(set(X.columns)-set(included)) # included list에 없는 column names 저장하는 리스트\n",
        "        new_scores = dict.fromkeys(excluded)\n",
        "\n",
        "        for new_column in excluded:\n",
        "            \n",
        "            model = LinearRegression()\n",
        "\n",
        "            ###########################################\n",
        "            ###### 코드 작성 영역 외 수정 하지 말 것 #########\n",
        "            ################ 문제 4-2 ##################\n",
        "\n",
        "\n",
        "\n",
        "\n",
        "        ##############################################\n",
        "        ##############################################\n",
        " \n",
        "    return included\n",
        "\n",
        "selected_features = forward_selection(X, y)\n",
        "print('selected_features:', selected_features)"
      ]
    },
    {
      "cell_type": "markdown",
      "metadata": {
        "id": "0OGUhsrgEwR_"
      },
      "source": [
        "### 문제 4-3: Regularized Model\n",
        "- Scikit-learn 라이브러리를 사용하여 Ridge Regression과 Lasso Regression 모델을 만든다.\n",
        "- train : validation : test **데이터셋의 비율을 8:1:1**로 설정한다.\n",
        "- 문제 4-1의 **forward selection을 통해 얻은 feature만**을 가진 데이터를 사용한다.\n",
        "- 다양한 alpha 값에 대해 validation dataset을 사용하여 각 모델에 대한 **최적의 alpha 값을 찾고 찾은 최적의 alpha 값을 텍스트 셀에 작성**한다.\n",
        "- alpha 값은 아래의 리스트를 사용한다.  \n",
        "```alpha = [0.0001, 0.001,0.01,0.1,1,10, 100, 1000, 10000, 100000]```\n",
        "- alpha 값에 대한 R2 score의 변화를 그래프로 나타낸다.\n",
        "  * **x축: alpha 값**\n",
        "  * **y축: R2 score 값**\n",
        "  * 파란색 선: Ridge 결과, 빨간색 선: Lasso 결과\n",
        "  * 그래프에 **legend**가 포함되어 있어야 한다. \n",
        "- **train과 validation dataset을 합하여 train set을 만든 후 최종 학습 결과를 도출**한다.\n",
        "  * 최적의 alpha 값을 찾을 때 사용한 test set은 변하지 않는다. \n",
        "  * r2 score를 사용하여 train set에 대한 prediction 결과와 test set에 대한 prediction 결과를 구해 print 한다."
      ]
    },
    {
      "cell_type": "code",
      "execution_count": null,
      "metadata": {
        "id": "NEx72fQh4Zll"
      },
      "outputs": [],
      "source": [
        "from sklearn.linear_model import LinearRegression, Ridge, Lasso\n",
        "from sklearn.metrics import r2_score\n",
        "import numpy as np"
      ]
    },
    {
      "cell_type": "code",
      "execution_count": null,
      "metadata": {
        "id": "2ZJbj9r2Z4LP"
      },
      "outputs": [],
      "source": [
        "### 문제 4-3 ###\n",
        "### 코드 작성 ###"
      ]
    },
    {
      "cell_type": "code",
      "execution_count": null,
      "metadata": {
        "id": "Ym11BIQD4Zll"
      },
      "outputs": [],
      "source": [
        "### 문제 4-3 ###\n",
        "### 그래프 작성 ###"
      ]
    },
    {
      "cell_type": "markdown",
      "metadata": {
        "id": "DS8x1JmkZ6Yl"
      },
      "source": [
        "- Rridge regression 모델 최적의 alpha 값:\n",
        "- Lasso regression 모델 최적의 alpha 값:"
      ]
    },
    {
      "cell_type": "code",
      "execution_count": null,
      "metadata": {
        "id": "zio0ZtfdiXCF"
      },
      "outputs": [],
      "source": [
        "# 최종 결과 출력"
      ]
    }
  ],
  "metadata": {
    "colab": {
      "collapsed_sections": [
        "3U8somVc4Zlk",
        "P-6ZikyP4Zlk",
        "0OGUhsrgEwR_"
      ],
      "provenance": [],
      "include_colab_link": true
    },
    "interpreter": {
      "hash": "72f413c705acf8cc7ca758c5c7ce13adba655409ec2684a2da3bcb9a148f4862"
    },
    "kernelspec": {
      "display_name": "Python 3.8.13 ('aae')",
      "language": "python",
      "name": "python3"
    },
    "language_info": {
      "codemirror_mode": {
        "name": "ipython",
        "version": 3
      },
      "file_extension": ".py",
      "mimetype": "text/x-python",
      "name": "python",
      "nbconvert_exporter": "python",
      "pygments_lexer": "ipython3",
      "version": "3.8.13"
    },
    "vscode": {
      "interpreter": {
        "hash": "4df1aae1e0b0d359ea12b19172edf8042a617e338541b2db12efe6535537db04"
      }
    }
  },
  "nbformat": 4,
  "nbformat_minor": 0
}