{
  "nbformat": 4,
  "nbformat_minor": 0,
  "metadata": {
    "colab": {
      "provenance": [],
      "machine_shape": "hm"
    },
    "kernelspec": {
      "name": "python3",
      "display_name": "Python 3"
    },
    "language_info": {
      "name": "python"
    },
    "accelerator": "GPU"
  },
  "cells": [
    {
      "cell_type": "markdown",
      "source": [
        "# Challenge :: Coin Classification"
      ],
      "metadata": {
        "id": "HfOI9j-7NmNe"
      }
    },
    {
      "cell_type": "markdown",
      "source": [
        "여러 나라의 동전 이미지를 보고 어느 나라의 동전인지 분류하는 테스크입니다.  \n",
        "동전의 클래스는 인도, 유럽, 중국, 미국, 일본, 필리핀으로 총 6개 입니다."
      ],
      "metadata": {
        "id": "3R6a-mbTIh2z"
      }
    },
    {
      "cell_type": "markdown",
      "source": [
        "각 나라의 label은 아래와 같이 설정합니다.\n",
        "{'china_coins': 0,\n",
        " 'euro_coins': 1,\n",
        " 'indian_coins': 2,\n",
        " 'peso_coins': 3,\n",
        " 'us_coins': 4,\n",
        " 'yen_coins': 5}"
      ],
      "metadata": {
        "id": "XpVnXP7WZqEC"
      }
    },
    {
      "cell_type": "markdown",
      "source": [
        "## Drive에서 데이터 가져오기 OR 로컬에서 파일 업로드"
      ],
      "metadata": {
        "id": "KpKF556rg3e-"
      }
    },
    {
      "cell_type": "code",
      "source": [
        "from google.colab import drive\n",
        "drive.mount('/content/drive') "
      ],
      "metadata": {
        "id": "BYQ2IQi7QVDs"
      },
      "execution_count": null,
      "outputs": []
    },
    {
      "cell_type": "code",
      "source": [
        "cd '알맞은 디렉토리 채우기'"
      ],
      "metadata": {
        "id": "P_6k3RXFhAvV"
      },
      "execution_count": null,
      "outputs": []
    },
    {
      "cell_type": "code",
      "source": [
        "ls"
      ],
      "metadata": {
        "id": "5GvzEfF2oLRL"
      },
      "execution_count": null,
      "outputs": []
    },
    {
      "cell_type": "markdown",
      "source": [
        "## Load Data"
      ],
      "metadata": {
        "id": "sxJo32BQPFk1"
      }
    },
    {
      "cell_type": "code",
      "source": [
        "import numpy as np\n",
        "import pandas as pd\n",
        "import seaborn as sns\n",
        "from tqdm.notebook import tqdm\n",
        "import matplotlib.pyplot as plt\n",
        "import torch\n",
        "import torchvision\n",
        "import torch.nn as nn\n",
        "import torch.optim as optim\n",
        "import torch.nn.functional as F\n",
        "from torchvision import transforms, utils, datasets\n",
        "from torch.utils.data import Dataset, DataLoader\n",
        "import torch.utils.data\n"
      ],
      "metadata": {
        "id": "N5epeVOcRDXC"
      },
      "execution_count": null,
      "outputs": []
    },
    {
      "cell_type": "code",
      "source": [
        "from PIL import ImageFile\n",
        "ImageFile.LOAD_TRUNCATED_IMAGES = True # prevent truncate error"
      ],
      "metadata": {
        "id": "G50TfszwqPDG"
      },
      "execution_count": null,
      "outputs": []
    },
    {
      "cell_type": "code",
      "source": [
        "image_transforms = {\n",
        "    \"train\": transforms.Compose([\n",
        "        transforms.Resize((600, 600)),\n",
        "        transforms.ToTensor(),\n",
        "        \n",
        "    ]),\n",
        "    \"test\": transforms.Compose([\n",
        "        transforms.Resize((600, 600)),\n",
        "        transforms.ToTensor(),\n",
        "    ])\n",
        "}"
      ],
      "metadata": {
        "id": "JJ6DIfAwkm7Z"
      },
      "execution_count": null,
      "outputs": []
    },
    {
      "cell_type": "code",
      "source": [
        "# From https://gist.github.com/andrewjong/6b02ff237533b3b2c554701fb53d5c4d\n",
        "\n",
        "class ImageFolderWithPaths(datasets.ImageFolder):\n",
        "    \"\"\"Custom dataset that includes image file paths. Extends\n",
        "    torchvision.datasets.ImageFolder\n",
        "    \"\"\"\n",
        "\n",
        "    # override the __getitem__ method. this is the method that dataloader calls\n",
        "    def __getitem__(self, index):\n",
        "        # this is what ImageFolder normally returns \n",
        "        original_tuple = super(ImageFolderWithPaths, self).__getitem__(index)\n",
        "        # the image file path\n",
        "        path = self.imgs[index][0]\n",
        "        # make a new tuple that includes original and the path\n",
        "        tuple_with_path = (original_tuple + (path,))\n",
        "        return tuple_with_path"
      ],
      "metadata": {
        "id": "GyA0-uCL91vg"
      },
      "execution_count": null,
      "outputs": []
    },
    {
      "cell_type": "code",
      "source": [
        "train_data = ImageFolderWithPaths(root = './coins_images/' + \"TRAIN\", # load train data\n",
        "                                   transform = image_transforms['train'],\n",
        "                                  )\n",
        "train_loader = torch.utils.data.DataLoader(train_data, batch_size=16, shuffle=True) # make train loader"
      ],
      "metadata": {
        "id": "ZyPDnO0zjXl_"
      },
      "execution_count": null,
      "outputs": []
    },
    {
      "cell_type": "code",
      "source": [
        "train_data"
      ],
      "metadata": {
        "id": "92NgzmXHh3B4"
      },
      "execution_count": null,
      "outputs": []
    },
    {
      "cell_type": "code",
      "source": [
        "classes = train_data.class_to_idx # class name\n",
        "classes"
      ],
      "metadata": {
        "id": "5ufdGhESqAKt"
      },
      "execution_count": null,
      "outputs": []
    },
    {
      "cell_type": "markdown",
      "source": [
        "## Show Example Data"
      ],
      "metadata": {
        "id": "HbvO90K5XMPw"
      }
    },
    {
      "cell_type": "code",
      "source": [
        "import matplotlib.pyplot as plt\n",
        "import numpy as np\n",
        "\n",
        "# functions to show an image\n",
        "\n",
        "\n",
        "def imshow(img):\n",
        "    npimg = img.numpy()\n",
        "    plt.imshow(np.transpose(npimg, (1, 2, 0)))\n",
        "    plt.show()\n",
        "\n",
        "\n",
        "# get some random training images\n",
        "dataiter = iter(train_loader)\n",
        "# print(dataiter.next())\n",
        "images, labels, paths = dataiter.next()\n",
        "\n",
        "batch_size = 16\n",
        "\n",
        "# show images\n",
        "imshow(torchvision.utils.make_grid(images))\n",
        "# print labels\n",
        "print()\n",
        "labels = labels.tolist()\n",
        "print(' '.join(f'{list(classes.keys())[list(classes.values()).index(j)]}' for j in labels))"
      ],
      "metadata": {
        "id": "eAt9VdGDSNze"
      },
      "execution_count": null,
      "outputs": []
    },
    {
      "cell_type": "markdown",
      "source": [
        "## Define a Convolutional Neural Network"
      ],
      "metadata": {
        "id": "48LBspi8RWs8"
      }
    },
    {
      "cell_type": "markdown",
      "source": [
        "Modified https://pytorch.org/tutorials/beginner/blitz/cifar10_tutorial.html"
      ],
      "metadata": {
        "id": "-fuWjklZXpRm"
      }
    },
    {
      "cell_type": "code",
      "source": [
        "class Net(nn.Module):\n",
        "    def __init__(self):\n",
        "        super().__init__()\n",
        "        \n",
        "        ############### Conv2d, MaxPool2d, Linear 함수에 들어갈 파라미터를 채우세요 ##############\n",
        "        self.conv1 = nn.Conv2d(, , ) # in_channel, out_channel, kernel size\n",
        "        self.pool = nn.MaxPool2d(, ) # kernel_size, stride\n",
        "        self.conv2 = nn.Conv2d(, , )\n",
        "        self.fc1 = nn.Linear(, ) # in_features, out_features\n",
        "        self.fc2 = nn.Linear(, )\n",
        "        self.fc3 = nn.Linear(, )\n",
        "        ###########################################################################################\n",
        "\n",
        "    def forward(self, x):\n",
        "        x = self.pool(F.relu(self.conv1(x)))\n",
        "        x = self.pool(F.relu(self.conv2(x)))\n",
        "        x = torch.flatten(x, 1) # flatten all dimensions except batch\n",
        "        x = F.relu(self.fc1(x))\n",
        "        x = F.relu(self.fc2(x))\n",
        "        x = self.fc3(x)\n",
        "        return x"
      ],
      "metadata": {
        "id": "rN9ai120RYbT"
      },
      "execution_count": null,
      "outputs": []
    },
    {
      "cell_type": "code",
      "source": [
        "device = torch.device(\"cuda:0\" if torch.cuda.is_available() else \"cpu\") # Use GPU if it's available # colab 런타임 유형 변경에서 GPU 선택할 것"
      ],
      "metadata": {
        "id": "Th4ixDPuRdl4"
      },
      "execution_count": null,
      "outputs": []
    },
    {
      "cell_type": "code",
      "source": [
        "net = Net() # define the network\n",
        "net = net.to(device) # send the network to the device"
      ],
      "metadata": {
        "id": "KkUMe2Z3ReCl"
      },
      "execution_count": null,
      "outputs": []
    },
    {
      "cell_type": "markdown",
      "source": [
        "## Define a Loss function and optimizer"
      ],
      "metadata": {
        "id": "MYjwxYMWIcoS"
      }
    },
    {
      "cell_type": "code",
      "source": [
        "criterion = nn.CrossEntropyLoss() # loss function, 변경 가능\n",
        "optimizer = optim.SGD(net.parameters(), lr=0.001, momentum=0.9) # optimizer, 변경 가능"
      ],
      "metadata": {
        "id": "nJGFKXd4R56K"
      },
      "execution_count": null,
      "outputs": []
    },
    {
      "cell_type": "markdown",
      "source": [
        "## Train the Network"
      ],
      "metadata": {
        "id": "T0hWm2qrYb-b"
      }
    },
    {
      "cell_type": "code",
      "source": [
        "for epoch in range(10):  # loop over the dataset multiple times\n",
        "\n",
        "    running_loss = 0.0\n",
        "    for i, data in enumerate(tqdm(train_loader, 0)):\n",
        "        # get the inputs; data is a list of [inputs, labels]\n",
        "        inputs, labels, paths = data\n",
        "        inputs = inputs.to(device)\n",
        "        labels = labels.to(device)\n",
        "        # zero the parameter gradients\n",
        "        optimizer.zero_grad()\n",
        "\n",
        "        # forward + backward + optimize\n",
        "        outputs = net(inputs)\n",
        "        loss = criterion(outputs, labels)\n",
        "        loss.backward()\n",
        "        optimizer.step()\n",
        "\n",
        "        # print statistics\n",
        "        running_loss += loss.item()\n",
        "        if i % 50 == 49:    # print every 2000 mini-batches\n",
        "            print(f'[{epoch + 1}, {i + 1:5d}] loss: {running_loss / 2000:.3f}')\n",
        "            running_loss = 0.0\n",
        "\n",
        "print('Finished Training') # epoch이 50일 때, training acc 46% 달성"
      ],
      "metadata": {
        "id": "NbeNY3IJR7nQ"
      },
      "execution_count": null,
      "outputs": []
    },
    {
      "cell_type": "markdown",
      "source": [
        "## Save the Network"
      ],
      "metadata": {
        "id": "Yot8z0mVYrxs"
      }
    },
    {
      "cell_type": "code",
      "source": [
        "# save the trained model\n",
        "PATH = './net_pretrained.pth'\n",
        "torch.save(net.state_dict(), PATH)"
      ],
      "metadata": {
        "id": "ZeKXaNHDzOUB"
      },
      "execution_count": null,
      "outputs": []
    },
    {
      "cell_type": "markdown",
      "source": [
        "## Load the Network"
      ],
      "metadata": {
        "id": "K04AnhgKF3Nc"
      }
    },
    {
      "cell_type": "code",
      "source": [
        "net = Net()\n",
        "net.load_state_dict(torch.load(PATH))"
      ],
      "metadata": {
        "id": "g-skQ-HCF40O"
      },
      "execution_count": null,
      "outputs": []
    },
    {
      "cell_type": "markdown",
      "source": [
        "## Calculate Training accuracy"
      ],
      "metadata": {
        "id": "-8ICyzY62LE9"
      }
    },
    {
      "cell_type": "code",
      "source": [
        "train_test_loader = torch.utils.data.DataLoader(train_data, batch_size=1, shuffle=False) # make train_test loader"
      ],
      "metadata": {
        "id": "PoWGzsS923oR"
      },
      "execution_count": null,
      "outputs": []
    },
    {
      "cell_type": "code",
      "source": [
        "correct = 0\n",
        "total = 0\n",
        "\n",
        "image_id = []\n",
        "predicted_label = []\n",
        "with torch.no_grad(): # since we're not training, we don't need to calculate the gradients for our outputs\n",
        "    for i, data in enumerate(tqdm(train_test_loader,0)):\n",
        "        images, labels, paths = data\n",
        "        images = images.to(device)\n",
        "        labels = labels.to(device)\n",
        "        # calculate outputs by running images through the network\n",
        "        outputs = net(images)\n",
        "        # the class with the highest energy is what we choose as prediction\n",
        "        _, predicted = torch.max(outputs.data, 1)\n",
        "        \n",
        "        image_id.append(paths)\n",
        "        predicted_label.append(predicted.item())\n",
        "\n",
        "        total += labels.size(0)\n",
        "        correct += (predicted == labels).sum().item()\n",
        "\n",
        "        # print('path:', paths, 'predicted_label:', predicted)\n",
        "print(f'Accuracy of the network on the {len(train_test_loader.dataset)} test images: {100 * correct // total} %')"
      ],
      "metadata": {
        "id": "3ebdFbso2PMB"
      },
      "execution_count": null,
      "outputs": []
    },
    {
      "cell_type": "markdown",
      "source": [
        "## Testing & Making a Submission File"
      ],
      "metadata": {
        "id": "EkWLaW3mYxBB"
      }
    },
    {
      "cell_type": "code",
      "source": [
        "from PIL import Image\n",
        "import torch\n",
        "from torch.utils.data import Dataset\n",
        "\n",
        "\n",
        "class testDataset(Dataset):\n",
        "    def __init__(self, data_dir, transform):\n",
        "        # path to images\n",
        "        path2data = os.path.join(data_dir)\n",
        "\n",
        "        # get a list of images\n",
        "        filenames = os.listdir(path2data)\n",
        "\n",
        "        # get the full path to images\n",
        "        self.full_filenames = [os.path.join(path2data, f) for f in filenames]\n",
        "        \n",
        "        # set transformations\n",
        "        self.transform = transform\n",
        "\n",
        "    def __len__(self):\n",
        "        # return size of dataset\n",
        "        return len(self.full_filenames)\n",
        "\n",
        "    def __getitem__(self, idx):\n",
        "        # open image, apply transforms and return with label\n",
        "        image = Image.open(self.full_filenames[idx])\n",
        "        image = self.transform(image)\n",
        "        image_name = self.full_filenames[idx]\n",
        "        return image, image_name"
      ],
      "metadata": {
        "id": "VG4cTucbkqMm"
      },
      "execution_count": null,
      "outputs": []
    },
    {
      "cell_type": "code",
      "source": [
        "test_data = testDataset('coins_images/TEST/',image_transforms['test'])\n",
        "test_loader = torch.utils.data.DataLoader(test_data, batch_size=1, shuffle=False) # ALWAYS SET SHUFFLE FALSE"
      ],
      "metadata": {
        "id": "MrgfxBu_kyH3"
      },
      "execution_count": null,
      "outputs": []
    },
    {
      "cell_type": "code",
      "source": [
        "\n",
        "image_id = []\n",
        "predicted_label = []\n",
        "with torch.no_grad(): # since we're not training, we don't need to calculate the gradients for our outputs\n",
        "    for i, data in enumerate(tqdm(test_loader,0)):\n",
        "        images, paths = data\n",
        "        images = images.to(device)\n",
        "\n",
        "        # calculate outputs by running images through the network\n",
        "        outputs = net(images)\n",
        "        # the class with the highest energy is what we choose as prediction\n",
        "        _, predicted = torch.max(outputs.data, 1)\n",
        "        path = os.path.basename(paths[0])\n",
        "        image_id.append(path)\n",
        "        predicted_label.append(predicted.item())"
      ],
      "metadata": {
        "id": "gGa0cnK60AN-"
      },
      "execution_count": null,
      "outputs": []
    },
    {
      "cell_type": "code",
      "source": [
        "predicted_df = pd.DataFrame({'image_id': image_id, 'predicted_label': predicted_label})"
      ],
      "metadata": {
        "id": "P1PAon1rm4Gi"
      },
      "execution_count": null,
      "outputs": []
    },
    {
      "cell_type": "code",
      "source": [
        "predicted_df['predicted_label'] = predicted_df.predicted_label.astype(str)"
      ],
      "metadata": {
        "id": "KvbzSECu9ReF"
      },
      "execution_count": null,
      "outputs": []
    },
    {
      "cell_type": "code",
      "source": [
        "predicted_df.to_csv('prediction_result.csv', index=False)"
      ],
      "metadata": {
        "id": "pzlPM5ZusMiS"
      },
      "execution_count": null,
      "outputs": []
    }
  ]
}